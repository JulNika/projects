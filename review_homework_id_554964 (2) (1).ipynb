{
 "cells": [
  {
   "cell_type": "markdown",
   "metadata": {
    "toc": true
   },
   "source": [
    "<h1>Содержание<span class=\"tocSkip\"></span></h1>\n",
    "<div class=\"toc\"><ul class=\"toc-item\"><li><span><a href=\"#Подготовка-данных\" data-toc-modified-id=\"Подготовка-данных-1\"><span class=\"toc-item-num\">1&nbsp;&nbsp;</span>Подготовка данных</a></span></li><li><span><a href=\"#Исследование-задачи\" data-toc-modified-id=\"Исследование-задачи-2\"><span class=\"toc-item-num\">2&nbsp;&nbsp;</span>Исследование задачи</a></span></li><li><span><a href=\"#Борьба-с-дисбалансом\" data-toc-modified-id=\"Борьба-с-дисбалансом-3\"><span class=\"toc-item-num\">3&nbsp;&nbsp;</span>Борьба с дисбалансом</a></span></li><li><span><a href=\"#Тестирование-модели\" data-toc-modified-id=\"Тестирование-модели-4\"><span class=\"toc-item-num\">4&nbsp;&nbsp;</span>Тестирование модели</a></span></li></ul></div>"
   ]
  },
  {
   "cell_type": "markdown",
   "metadata": {},
   "source": [
    "# Отток клиентов"
   ]
  },
  {
   "cell_type": "markdown",
   "metadata": {},
   "source": [
    "Из «Бета-Банка» стали уходить клиенты. Каждый месяц. Немного, но заметно. Банковские маркетологи посчитали: сохранять текущих клиентов дешевле, чем привлекать новых.\n",
    "\n",
    "Нужно спрогнозировать, уйдёт клиент из банка в ближайшее время или нет. Вам предоставлены исторические данные о поведении клиентов и расторжении договоров с банком. \n",
    "\n",
    "Постройте модель с предельно большим значением *F1*-меры. Чтобы сдать проект успешно, нужно довести метрику до 0.59. Проверьте *F1*-меру на тестовой выборке самостоятельно.\n",
    "\n",
    "Дополнительно измеряйте *AUC-ROC*, сравнивайте её значение с *F1*-мерой.\n",
    "\n",
    "Источник данных: [https://www.kaggle.com/barelydedicated/bank-customer-churn-modeling](https://www.kaggle.com/barelydedicated/bank-customer-churn-modeling)"
   ]
  },
  {
   "cell_type": "markdown",
   "metadata": {},
   "source": [
    "## Подготовка данных"
   ]
  },
  {
   "cell_type": "markdown",
   "metadata": {},
   "source": [
    "Ту будут все import"
   ]
  },
  {
   "cell_type": "code",
   "execution_count": 16,
   "metadata": {},
   "outputs": [],
   "source": [
    "#загрузка библиотек, методов и пр.\n",
    "import pandas as pd\n",
    "import numpy as np\n",
    "from sklearn.model_selection import train_test_split\n",
    "from sklearn.tree import DecisionTreeClassifier\n",
    "from sklearn.ensemble import RandomForestClassifier\n",
    "from sklearn.linear_model import LogisticRegression\n",
    "from sklearn.metrics import f1_score\n",
    "from sklearn.preprocessing import StandardScaler\n",
    "from sklearn.utils import shuffle\n",
    "from sklearn.metrics import precision_score, recall_score\n",
    "from sklearn.metrics import accuracy_score\n",
    "import matplotlib.pyplot as plt\n",
    "from sklearn.metrics import roc_curve\n",
    "from sklearn.metrics import roc_auc_score"
   ]
  },
  {
   "cell_type": "code",
   "execution_count": 2,
   "metadata": {},
   "outputs": [
    {
     "name": "stdout",
     "output_type": "stream",
     "text": [
      "<class 'pandas.core.frame.DataFrame'>\n",
      "RangeIndex: 10000 entries, 0 to 9999\n",
      "Data columns (total 14 columns):\n",
      " #   Column           Non-Null Count  Dtype  \n",
      "---  ------           --------------  -----  \n",
      " 0   RowNumber        10000 non-null  int64  \n",
      " 1   CustomerId       10000 non-null  int64  \n",
      " 2   Surname          10000 non-null  object \n",
      " 3   CreditScore      10000 non-null  int64  \n",
      " 4   Geography        10000 non-null  object \n",
      " 5   Gender           10000 non-null  object \n",
      " 6   Age              10000 non-null  int64  \n",
      " 7   Tenure           9091 non-null   float64\n",
      " 8   Balance          10000 non-null  float64\n",
      " 9   NumOfProducts    10000 non-null  int64  \n",
      " 10  HasCrCard        10000 non-null  int64  \n",
      " 11  IsActiveMember   10000 non-null  int64  \n",
      " 12  EstimatedSalary  10000 non-null  float64\n",
      " 13  Exited           10000 non-null  int64  \n",
      "dtypes: float64(3), int64(8), object(3)\n",
      "memory usage: 1.1+ MB\n",
      "Поиск дубликатов 0\n"
     ]
    },
    {
     "data": {
      "text/html": [
       "<div>\n",
       "<style scoped>\n",
       "    .dataframe tbody tr th:only-of-type {\n",
       "        vertical-align: middle;\n",
       "    }\n",
       "\n",
       "    .dataframe tbody tr th {\n",
       "        vertical-align: top;\n",
       "    }\n",
       "\n",
       "    .dataframe thead th {\n",
       "        text-align: right;\n",
       "    }\n",
       "</style>\n",
       "<table border=\"1\" class=\"dataframe\">\n",
       "  <thead>\n",
       "    <tr style=\"text-align: right;\">\n",
       "      <th></th>\n",
       "      <th>RowNumber</th>\n",
       "      <th>CustomerId</th>\n",
       "      <th>Surname</th>\n",
       "      <th>CreditScore</th>\n",
       "      <th>Geography</th>\n",
       "      <th>Gender</th>\n",
       "      <th>Age</th>\n",
       "      <th>Tenure</th>\n",
       "      <th>Balance</th>\n",
       "      <th>NumOfProducts</th>\n",
       "      <th>HasCrCard</th>\n",
       "      <th>IsActiveMember</th>\n",
       "      <th>EstimatedSalary</th>\n",
       "      <th>Exited</th>\n",
       "    </tr>\n",
       "  </thead>\n",
       "  <tbody>\n",
       "    <tr>\n",
       "      <th>0</th>\n",
       "      <td>1</td>\n",
       "      <td>15634602</td>\n",
       "      <td>Hargrave</td>\n",
       "      <td>619</td>\n",
       "      <td>France</td>\n",
       "      <td>Female</td>\n",
       "      <td>42</td>\n",
       "      <td>2.0</td>\n",
       "      <td>0.00</td>\n",
       "      <td>1</td>\n",
       "      <td>1</td>\n",
       "      <td>1</td>\n",
       "      <td>101348.88</td>\n",
       "      <td>1</td>\n",
       "    </tr>\n",
       "    <tr>\n",
       "      <th>1</th>\n",
       "      <td>2</td>\n",
       "      <td>15647311</td>\n",
       "      <td>Hill</td>\n",
       "      <td>608</td>\n",
       "      <td>Spain</td>\n",
       "      <td>Female</td>\n",
       "      <td>41</td>\n",
       "      <td>1.0</td>\n",
       "      <td>83807.86</td>\n",
       "      <td>1</td>\n",
       "      <td>0</td>\n",
       "      <td>1</td>\n",
       "      <td>112542.58</td>\n",
       "      <td>0</td>\n",
       "    </tr>\n",
       "    <tr>\n",
       "      <th>2</th>\n",
       "      <td>3</td>\n",
       "      <td>15619304</td>\n",
       "      <td>Onio</td>\n",
       "      <td>502</td>\n",
       "      <td>France</td>\n",
       "      <td>Female</td>\n",
       "      <td>42</td>\n",
       "      <td>8.0</td>\n",
       "      <td>159660.80</td>\n",
       "      <td>3</td>\n",
       "      <td>1</td>\n",
       "      <td>0</td>\n",
       "      <td>113931.57</td>\n",
       "      <td>1</td>\n",
       "    </tr>\n",
       "    <tr>\n",
       "      <th>3</th>\n",
       "      <td>4</td>\n",
       "      <td>15701354</td>\n",
       "      <td>Boni</td>\n",
       "      <td>699</td>\n",
       "      <td>France</td>\n",
       "      <td>Female</td>\n",
       "      <td>39</td>\n",
       "      <td>1.0</td>\n",
       "      <td>0.00</td>\n",
       "      <td>2</td>\n",
       "      <td>0</td>\n",
       "      <td>0</td>\n",
       "      <td>93826.63</td>\n",
       "      <td>0</td>\n",
       "    </tr>\n",
       "    <tr>\n",
       "      <th>4</th>\n",
       "      <td>5</td>\n",
       "      <td>15737888</td>\n",
       "      <td>Mitchell</td>\n",
       "      <td>850</td>\n",
       "      <td>Spain</td>\n",
       "      <td>Female</td>\n",
       "      <td>43</td>\n",
       "      <td>2.0</td>\n",
       "      <td>125510.82</td>\n",
       "      <td>1</td>\n",
       "      <td>1</td>\n",
       "      <td>1</td>\n",
       "      <td>79084.10</td>\n",
       "      <td>0</td>\n",
       "    </tr>\n",
       "    <tr>\n",
       "      <th>5</th>\n",
       "      <td>6</td>\n",
       "      <td>15574012</td>\n",
       "      <td>Chu</td>\n",
       "      <td>645</td>\n",
       "      <td>Spain</td>\n",
       "      <td>Male</td>\n",
       "      <td>44</td>\n",
       "      <td>8.0</td>\n",
       "      <td>113755.78</td>\n",
       "      <td>2</td>\n",
       "      <td>1</td>\n",
       "      <td>0</td>\n",
       "      <td>149756.71</td>\n",
       "      <td>1</td>\n",
       "    </tr>\n",
       "    <tr>\n",
       "      <th>6</th>\n",
       "      <td>7</td>\n",
       "      <td>15592531</td>\n",
       "      <td>Bartlett</td>\n",
       "      <td>822</td>\n",
       "      <td>France</td>\n",
       "      <td>Male</td>\n",
       "      <td>50</td>\n",
       "      <td>7.0</td>\n",
       "      <td>0.00</td>\n",
       "      <td>2</td>\n",
       "      <td>1</td>\n",
       "      <td>1</td>\n",
       "      <td>10062.80</td>\n",
       "      <td>0</td>\n",
       "    </tr>\n",
       "    <tr>\n",
       "      <th>7</th>\n",
       "      <td>8</td>\n",
       "      <td>15656148</td>\n",
       "      <td>Obinna</td>\n",
       "      <td>376</td>\n",
       "      <td>Germany</td>\n",
       "      <td>Female</td>\n",
       "      <td>29</td>\n",
       "      <td>4.0</td>\n",
       "      <td>115046.74</td>\n",
       "      <td>4</td>\n",
       "      <td>1</td>\n",
       "      <td>0</td>\n",
       "      <td>119346.88</td>\n",
       "      <td>1</td>\n",
       "    </tr>\n",
       "    <tr>\n",
       "      <th>8</th>\n",
       "      <td>9</td>\n",
       "      <td>15792365</td>\n",
       "      <td>He</td>\n",
       "      <td>501</td>\n",
       "      <td>France</td>\n",
       "      <td>Male</td>\n",
       "      <td>44</td>\n",
       "      <td>4.0</td>\n",
       "      <td>142051.07</td>\n",
       "      <td>2</td>\n",
       "      <td>0</td>\n",
       "      <td>1</td>\n",
       "      <td>74940.50</td>\n",
       "      <td>0</td>\n",
       "    </tr>\n",
       "    <tr>\n",
       "      <th>9</th>\n",
       "      <td>10</td>\n",
       "      <td>15592389</td>\n",
       "      <td>H?</td>\n",
       "      <td>684</td>\n",
       "      <td>France</td>\n",
       "      <td>Male</td>\n",
       "      <td>27</td>\n",
       "      <td>2.0</td>\n",
       "      <td>134603.88</td>\n",
       "      <td>1</td>\n",
       "      <td>1</td>\n",
       "      <td>1</td>\n",
       "      <td>71725.73</td>\n",
       "      <td>0</td>\n",
       "    </tr>\n",
       "  </tbody>\n",
       "</table>\n",
       "</div>"
      ],
      "text/plain": [
       "   RowNumber  CustomerId   Surname  CreditScore Geography  Gender  Age  \\\n",
       "0          1    15634602  Hargrave          619    France  Female   42   \n",
       "1          2    15647311      Hill          608     Spain  Female   41   \n",
       "2          3    15619304      Onio          502    France  Female   42   \n",
       "3          4    15701354      Boni          699    France  Female   39   \n",
       "4          5    15737888  Mitchell          850     Spain  Female   43   \n",
       "5          6    15574012       Chu          645     Spain    Male   44   \n",
       "6          7    15592531  Bartlett          822    France    Male   50   \n",
       "7          8    15656148    Obinna          376   Germany  Female   29   \n",
       "8          9    15792365        He          501    France    Male   44   \n",
       "9         10    15592389        H?          684    France    Male   27   \n",
       "\n",
       "   Tenure    Balance  NumOfProducts  HasCrCard  IsActiveMember  \\\n",
       "0     2.0       0.00              1          1               1   \n",
       "1     1.0   83807.86              1          0               1   \n",
       "2     8.0  159660.80              3          1               0   \n",
       "3     1.0       0.00              2          0               0   \n",
       "4     2.0  125510.82              1          1               1   \n",
       "5     8.0  113755.78              2          1               0   \n",
       "6     7.0       0.00              2          1               1   \n",
       "7     4.0  115046.74              4          1               0   \n",
       "8     4.0  142051.07              2          0               1   \n",
       "9     2.0  134603.88              1          1               1   \n",
       "\n",
       "   EstimatedSalary  Exited  \n",
       "0        101348.88       1  \n",
       "1        112542.58       0  \n",
       "2        113931.57       1  \n",
       "3         93826.63       0  \n",
       "4         79084.10       0  \n",
       "5        149756.71       1  \n",
       "6         10062.80       0  \n",
       "7        119346.88       1  \n",
       "8         74940.50       0  \n",
       "9         71725.73       0  "
      ]
     },
     "execution_count": 2,
     "metadata": {},
     "output_type": "execute_result"
    }
   ],
   "source": [
    "#загрука данных\n",
    "data = pd.read_csv('/datasets/Churn.csv')\n",
    "data.shape\n",
    "data.info()\n",
    "\n",
    "print('Поиск дубликатов', data.duplicated().sum())\n",
    "data.head(10)"
   ]
  },
  {
   "cell_type": "markdown",
   "metadata": {},
   "source": [
    "Удалим лишние признаки, такие как: RowNumber,CustomerId, Surname"
   ]
  },
  {
   "cell_type": "code",
   "execution_count": 3,
   "metadata": {},
   "outputs": [
    {
     "data": {
      "text/html": [
       "<div>\n",
       "<style scoped>\n",
       "    .dataframe tbody tr th:only-of-type {\n",
       "        vertical-align: middle;\n",
       "    }\n",
       "\n",
       "    .dataframe tbody tr th {\n",
       "        vertical-align: top;\n",
       "    }\n",
       "\n",
       "    .dataframe thead th {\n",
       "        text-align: right;\n",
       "    }\n",
       "</style>\n",
       "<table border=\"1\" class=\"dataframe\">\n",
       "  <thead>\n",
       "    <tr style=\"text-align: right;\">\n",
       "      <th></th>\n",
       "      <th>CreditScore</th>\n",
       "      <th>Geography</th>\n",
       "      <th>Gender</th>\n",
       "      <th>Age</th>\n",
       "      <th>Tenure</th>\n",
       "      <th>Balance</th>\n",
       "      <th>NumOfProducts</th>\n",
       "      <th>HasCrCard</th>\n",
       "      <th>IsActiveMember</th>\n",
       "      <th>EstimatedSalary</th>\n",
       "      <th>Exited</th>\n",
       "    </tr>\n",
       "  </thead>\n",
       "  <tbody>\n",
       "    <tr>\n",
       "      <th>0</th>\n",
       "      <td>619</td>\n",
       "      <td>France</td>\n",
       "      <td>Female</td>\n",
       "      <td>42</td>\n",
       "      <td>2.0</td>\n",
       "      <td>0.00</td>\n",
       "      <td>1</td>\n",
       "      <td>1</td>\n",
       "      <td>1</td>\n",
       "      <td>101348.88</td>\n",
       "      <td>1</td>\n",
       "    </tr>\n",
       "    <tr>\n",
       "      <th>1</th>\n",
       "      <td>608</td>\n",
       "      <td>Spain</td>\n",
       "      <td>Female</td>\n",
       "      <td>41</td>\n",
       "      <td>1.0</td>\n",
       "      <td>83807.86</td>\n",
       "      <td>1</td>\n",
       "      <td>0</td>\n",
       "      <td>1</td>\n",
       "      <td>112542.58</td>\n",
       "      <td>0</td>\n",
       "    </tr>\n",
       "    <tr>\n",
       "      <th>2</th>\n",
       "      <td>502</td>\n",
       "      <td>France</td>\n",
       "      <td>Female</td>\n",
       "      <td>42</td>\n",
       "      <td>8.0</td>\n",
       "      <td>159660.80</td>\n",
       "      <td>3</td>\n",
       "      <td>1</td>\n",
       "      <td>0</td>\n",
       "      <td>113931.57</td>\n",
       "      <td>1</td>\n",
       "    </tr>\n",
       "    <tr>\n",
       "      <th>3</th>\n",
       "      <td>699</td>\n",
       "      <td>France</td>\n",
       "      <td>Female</td>\n",
       "      <td>39</td>\n",
       "      <td>1.0</td>\n",
       "      <td>0.00</td>\n",
       "      <td>2</td>\n",
       "      <td>0</td>\n",
       "      <td>0</td>\n",
       "      <td>93826.63</td>\n",
       "      <td>0</td>\n",
       "    </tr>\n",
       "    <tr>\n",
       "      <th>4</th>\n",
       "      <td>850</td>\n",
       "      <td>Spain</td>\n",
       "      <td>Female</td>\n",
       "      <td>43</td>\n",
       "      <td>2.0</td>\n",
       "      <td>125510.82</td>\n",
       "      <td>1</td>\n",
       "      <td>1</td>\n",
       "      <td>1</td>\n",
       "      <td>79084.10</td>\n",
       "      <td>0</td>\n",
       "    </tr>\n",
       "  </tbody>\n",
       "</table>\n",
       "</div>"
      ],
      "text/plain": [
       "   CreditScore Geography  Gender  Age  Tenure    Balance  NumOfProducts  \\\n",
       "0          619    France  Female   42     2.0       0.00              1   \n",
       "1          608     Spain  Female   41     1.0   83807.86              1   \n",
       "2          502    France  Female   42     8.0  159660.80              3   \n",
       "3          699    France  Female   39     1.0       0.00              2   \n",
       "4          850     Spain  Female   43     2.0  125510.82              1   \n",
       "\n",
       "   HasCrCard  IsActiveMember  EstimatedSalary  Exited  \n",
       "0          1               1        101348.88       1  \n",
       "1          0               1        112542.58       0  \n",
       "2          1               0        113931.57       1  \n",
       "3          0               0         93826.63       0  \n",
       "4          1               1         79084.10       0  "
      ]
     },
     "execution_count": 3,
     "metadata": {},
     "output_type": "execute_result"
    }
   ],
   "source": [
    "data = data.drop(columns=['RowNumber','CustomerId', 'Surname'], axis=1)\n",
    "data.head()"
   ]
  },
  {
   "cell_type": "code",
   "execution_count": 4,
   "metadata": {},
   "outputs": [
    {
     "name": "stdout",
     "output_type": "stream",
     "text": [
      "         Age  Balance  CreditScore  EstimatedSalary  Gender  Geography  \\\n",
      "Exited                                                                   \n",
      "0       7963     7963         7963             7963    7963       7963   \n",
      "1       2037     2037         2037             2037    2037       2037   \n",
      "\n",
      "        HasCrCard  IsActiveMember  NumOfProducts  Tenure  \n",
      "Exited                                                    \n",
      "0            7963            7963           7963    7237  \n",
      "1            2037            2037           2037    1854  \n"
     ]
    }
   ],
   "source": [
    "#оценим дисбаланс классов - разницу в количестве данных по ушелдшим и оставшимся клиентам\n",
    "print(data.pivot_table(index=['Exited'], aggfunc ='count'))"
   ]
  },
  {
   "cell_type": "markdown",
   "metadata": {},
   "source": [
    "***Выводы и предварительному анализу данных:***\n",
    "\n",
    "1. Как видно из информации  у нас есть пропуски в количественных данных по  графе  Tunure\n",
    "2. По типам данных:\n",
    "- в колонке Agency Type, Gender,  HasCrCard, IsActiveMember, Exited изменим тип на bool, так как там только 2 вариата агентств;\n",
    "- остальные типы соответствуют содержанию.\n",
    "\n",
    "3. В названии колонок буквы разного регистра, но менять их не будет, так как будет мало работы с определенными колонками.\n",
    "\n",
    "4. Также заметен дисбанас классов: данных по ушедщим клиентам у нас почти в 4 раз меньше, чем по оставшимся.\n"
   ]
  },
  {
   "cell_type": "code",
   "execution_count": 5,
   "metadata": {},
   "outputs": [
    {
     "name": "stdout",
     "output_type": "stream",
     "text": [
      "Tenure: [ 2.  1.  8.  7.  4.  6.  3. 10.  5.  9.  0. nan]\n",
      "Gender: ['Female' 'Male']\n",
      "HasCrCard: [1 0]\n",
      "IsActiveMember: [1 0]\n",
      "Exited: [1 0]\n"
     ]
    }
   ],
   "source": [
    "#посмотрим уникальные значения по тем, колонкам, где планируем менять тип на bool \n",
    "print ('Tenure:', data['Tenure'].unique())\n",
    "print ('Gender:',data['Gender'].unique())\n",
    "print ('HasCrCard:',data['HasCrCard'].unique())\n",
    "print ('IsActiveMember:',data['IsActiveMember'].unique())\n",
    "print ('Exited:',data['Exited'].unique())"
   ]
  },
  {
   "cell_type": "markdown",
   "metadata": {},
   "source": [
    "Предобразуем данные."
   ]
  },
  {
   "cell_type": "code",
   "execution_count": 6,
   "metadata": {},
   "outputs": [
    {
     "name": "stdout",
     "output_type": "stream",
     "text": [
      "<class 'pandas.core.frame.DataFrame'>\n",
      "RangeIndex: 10000 entries, 0 to 9999\n",
      "Data columns (total 11 columns):\n",
      " #   Column           Non-Null Count  Dtype  \n",
      "---  ------           --------------  -----  \n",
      " 0   CreditScore      10000 non-null  int64  \n",
      " 1   Geography        10000 non-null  object \n",
      " 2   Gender           10000 non-null  bool   \n",
      " 3   Age              10000 non-null  int64  \n",
      " 4   Tenure           9091 non-null   float64\n",
      " 5   Balance          10000 non-null  float64\n",
      " 6   NumOfProducts    10000 non-null  int64  \n",
      " 7   HasCrCard        10000 non-null  bool   \n",
      " 8   IsActiveMember   10000 non-null  bool   \n",
      " 9   EstimatedSalary  10000 non-null  float64\n",
      " 10  Exited           10000 non-null  bool   \n",
      "dtypes: bool(4), float64(3), int64(3), object(1)\n",
      "memory usage: 586.1+ KB\n"
     ]
    }
   ],
   "source": [
    "\n",
    "data['Gender'] = data['Gender'].astype(bool)\n",
    "data['HasCrCard'] = data['HasCrCard'].astype(bool)\n",
    "data['IsActiveMember'] = data['IsActiveMember'].astype(bool)\n",
    "data['Exited'] = data['Exited'].astype(bool)\n",
    "\n",
    "#удалим строки, где есть пропуски по графе \"Tenure\"\n",
    "#data = data.dropna(subset=['Tenure'])\n",
    "\n",
    "data.info()"
   ]
  },
  {
   "cell_type": "markdown",
   "metadata": {},
   "source": [
    "По колонкам Gender, HasCrCard, IsActiveMember, Exited данные были преобразованы в булевой тип (bool), так как значения в них содержат один из двух возможных варинатов.\n",
    "\n",
    "Тажке по графе Tenure были удалены сроки  пропущенными значенимия. Из предположения, что  наличие значений графе, обозначающей сколько лет человек является клиентом банка, могут быть важны при построении модели для прогнозирования покинет ли клиент банк в будущем или нет.  "
   ]
  },
  {
   "cell_type": "markdown",
   "metadata": {},
   "source": [
    "Пропуски в графе Tenure заменим  на значание -1, данным присвоен тип object, чтобы после кодирования признаки в этом столбце стали категориальными.Код ниже."
   ]
  },
  {
   "cell_type": "code",
   "execution_count": 7,
   "metadata": {},
   "outputs": [
    {
     "name": "stdout",
     "output_type": "stream",
     "text": [
      "[ 2.  1.  8.  7.  4.  6.  3. 10.  5.  9.  0. -1.]\n",
      "<class 'pandas.core.frame.DataFrame'>\n",
      "RangeIndex: 10000 entries, 0 to 9999\n",
      "Data columns (total 11 columns):\n",
      " #   Column           Non-Null Count  Dtype  \n",
      "---  ------           --------------  -----  \n",
      " 0   CreditScore      10000 non-null  int64  \n",
      " 1   Geography        10000 non-null  object \n",
      " 2   Gender           10000 non-null  bool   \n",
      " 3   Age              10000 non-null  int64  \n",
      " 4   Tenure           10000 non-null  object \n",
      " 5   Balance          10000 non-null  float64\n",
      " 6   NumOfProducts    10000 non-null  int64  \n",
      " 7   HasCrCard        10000 non-null  bool   \n",
      " 8   IsActiveMember   10000 non-null  bool   \n",
      " 9   EstimatedSalary  10000 non-null  float64\n",
      " 10  Exited           10000 non-null  bool   \n",
      "dtypes: bool(4), float64(2), int64(3), object(2)\n",
      "memory usage: 586.1+ KB\n"
     ]
    }
   ],
   "source": [
    "#пропуски в графе Tenure заменим на заполним значением -1 , а потом признакми в этой графе сделаем с типом object, \n",
    "#чтобы после кодировки они стали категориальынми значаниями\n",
    "\n",
    "data['Tenure'] = data['Tenure'].fillna(-1)\n",
    "print(data['Tenure'].unique())\n",
    "data['Tenure'] = data['Tenure'].astype(object)\n",
    "data.info()"
   ]
  },
  {
   "cell_type": "markdown",
   "metadata": {},
   "source": [
    "## Исследование задачи"
   ]
  },
  {
   "cell_type": "markdown",
   "metadata": {},
   "source": [
    "Разделим данные на 3 выборки - тренировочную, валидационную и для финального тестирования."
   ]
  },
  {
   "cell_type": "markdown",
   "metadata": {},
   "source": [
    "***Проведем разбивку данных на выборки и потом кодирование полученных выборок. Проверим, что нет утечек.***"
   ]
  },
  {
   "cell_type": "code",
   "execution_count": 9,
   "metadata": {},
   "outputs": [
    {
     "name": "stdout",
     "output_type": "stream",
     "text": [
      " \n",
      "Размер тренировочной выборки (4000, 11)\n",
      "Размер валидационной выборки (3000, 11)\n",
      "Размер тестовой выборки (3000, 11)\n"
     ]
    }
   ],
   "source": [
    "#разобьем данные на выборки\n",
    "df_train, df_train2 = train_test_split(data, test_size=0.6, random_state=12345, stratify=data['Exited'])\n",
    "df_valid, df_test = train_test_split(df_train2, test_size=0.5, random_state=12345, stratify=df_train2['Exited'])\n",
    "\n",
    "\n",
    "\n",
    "#оценим дисбаланс классов - разницу в количестве данных по ушелдшим и оставшимся клиентам\n",
    "\n",
    "print(' ')\n",
    "print('Размер тренировочной выборки', df_train.shape)\n",
    "print('Размер валидационной выборки', df_valid.shape)\n",
    "print('Размер тестовой выборки', df_test.shape)"
   ]
  },
  {
   "cell_type": "code",
   "execution_count": 10,
   "metadata": {},
   "outputs": [
    {
     "name": "stdout",
     "output_type": "stream",
     "text": [
      "Размер тренировочной выборки (4000, 22)\n",
      "Размер валидационной выборки (3000, 22)\n",
      "Размер тестовой выборки (3000, 22)\n",
      "Index(['CreditScore', 'Gender', 'Age', 'Balance', 'NumOfProducts', 'HasCrCard',\n",
      "       'IsActiveMember', 'EstimatedSalary', 'Exited', 'Geography_Germany',\n",
      "       'Geography_Spain', 'Tenure_0.0', 'Tenure_1.0', 'Tenure_2.0',\n",
      "       'Tenure_3.0', 'Tenure_4.0', 'Tenure_5.0', 'Tenure_6.0', 'Tenure_7.0',\n",
      "       'Tenure_8.0', 'Tenure_9.0', 'Tenure_10.0'],\n",
      "      dtype='object')\n",
      "      CreditScore  Gender  Age    Balance  NumOfProducts  HasCrCard  \\\n",
      "3547          662    True   35       0.00              2      False   \n",
      "4559          528    True   62  133201.17              1      False   \n",
      "4761          799    True   32  106045.92              2       True   \n",
      "1787          669    True   25  157848.53              1      False   \n",
      "4237          498    True   29       0.00              1       True   \n",
      "\n",
      "      IsActiveMember  EstimatedSalary  Exited  Geography_Germany  ...  \\\n",
      "3547           False          2423.90    True                  0  ...   \n",
      "4559           False        168507.68    True                  1  ...   \n",
      "4761            True         17938.00   False                  0  ...   \n",
      "1787           False         37543.93    True                  0  ...   \n",
      "4237           False        190035.83   False                  0  ...   \n",
      "\n",
      "      Tenure_1.0  Tenure_2.0  Tenure_3.0  Tenure_4.0  Tenure_5.0  Tenure_6.0  \\\n",
      "3547           0           0           0           0           0           1   \n",
      "4559           0           0           0           0           0           0   \n",
      "4761           0           0           1           0           0           0   \n",
      "1787           0           0           0           0           0           0   \n",
      "4237           0           0           0           0           0           0   \n",
      "\n",
      "      Tenure_7.0  Tenure_8.0  Tenure_9.0  Tenure_10.0  \n",
      "3547           0           0           0            0  \n",
      "4559           1           0           0            0  \n",
      "4761           0           0           0            0  \n",
      "1787           0           0           0            0  \n",
      "4237           0           0           1            0  \n",
      "\n",
      "[5 rows x 22 columns]\n"
     ]
    }
   ],
   "source": [
    "#проведем кодирование выборок\n",
    "df_train = pd.get_dummies(df_train, drop_first=True)\n",
    "df_valid = pd.get_dummies(df_valid, drop_first=True)\n",
    "df_test = pd.get_dummies(df_test, drop_first=True)\n",
    "\n",
    "#проверим размер выборок после кодировки, чтобы не было утечек\n",
    "\n",
    "print('Размер тренировочной выборки', df_train.shape)\n",
    "print('Размер валидационной выборки', df_valid.shape)\n",
    "print('Размер тестовой выборки', df_test.shape)\n",
    "\n",
    "print(df_train.columns)\n",
    "print(df_train.head())"
   ]
  },
  {
   "cell_type": "markdown",
   "metadata": {},
   "source": [
    "***ВЫВОД*** Выборки после кодирования изменились корректно."
   ]
  },
  {
   "cell_type": "code",
   "execution_count": 11,
   "metadata": {},
   "outputs": [
    {
     "name": "stdout",
     "output_type": "stream",
     "text": [
      "Размер обучающей выборки: (4000, 22)\n",
      "Размер валидационной выборки: (3000, 22)\n",
      "Размер тестовой выборки: (3000, 22)\n",
      "\n",
      "False    3185\n",
      "True      815\n",
      "Name: Exited, dtype: int64\n",
      "Распределение классов в обучающей выборке False    3185\n",
      "True      815\n",
      "Name: Exited, dtype: int64\n",
      "Распределение классов в валидационной выборке False    2389\n",
      "True      611\n",
      "Name: Exited, dtype: int64\n",
      "Распределение классов в тестовой выборке False    2389\n",
      "True      611\n",
      "Name: Exited, dtype: int64\n"
     ]
    }
   ],
   "source": [
    "\n",
    "# < создаем переменные для признаков и целевого признака >\n",
    "features_train = df_train.drop(['Exited'], axis=1)\n",
    "target_train = df_train['Exited']\n",
    "\n",
    "features_valid = df_valid.drop(['Exited'], axis=1)\n",
    "target_valid = df_valid['Exited']\n",
    "\n",
    "features_test = df_test.drop(['Exited'], axis=1)\n",
    "target_test = df_test['Exited']\n",
    "\n",
    "print('Размер обучающей выборки:', df_train.shape)\n",
    "print('Размер валидационной выборки:',df_valid.shape)\n",
    "print('Размер тестовой выборки:',df_test.shape)\n",
    "print('')\n",
    "\n",
    "print(target_train.value_counts())\n",
    "#оценим дисбаланс классов - разницу в количестве данных по ушелдшим и оставшимся клиентам\n",
    "print('Распределение классов в обучающей выборке', target_train.value_counts())\n",
    "print('Распределение классов в валидационной выборке', target_valid.value_counts())\n",
    "print('Распределение классов в тестовой выборке',target_test.value_counts())"
   ]
  },
  {
   "cell_type": "markdown",
   "metadata": {},
   "source": [
    "***Проведем стандартизацию данных***"
   ]
  },
  {
   "cell_type": "code",
   "execution_count": 12,
   "metadata": {},
   "outputs": [],
   "source": [
    "#список всех численных признаков.\n",
    "numeric = ['CreditScore', 'Age', 'Balance', 'EstimatedSalary']\n",
    "\n",
    "#создадим объект стандартизации и обучим его\n",
    "scaler = StandardScaler()\n",
    "scaler.fit(features_train[numeric])\n",
    "\n",
    "#сохраним преобразованные обучающую,валидационную и тестовую  выборки в переменные\n",
    "features_train[numeric] = scaler.transform(features_train[numeric])\n",
    "features_valid[numeric] = scaler.transform(features_valid[numeric])\n",
    "features_test[numeric] = scaler.transform(features_test[numeric])\n",
    "pd.options.mode.chained_assignment = None"
   ]
  },
  {
   "cell_type": "code",
   "execution_count": 13,
   "metadata": {},
   "outputs": [
    {
     "name": "stdout",
     "output_type": "stream",
     "text": [
      "      CreditScore  Gender       Age   Balance  NumOfProducts  HasCrCard  \\\n",
      "3547     0.114627    True -0.372209 -1.211706              2      False   \n",
      "4559    -1.267543    True  2.255662  0.913776              1      False   \n",
      "4761     1.527741    True -0.664194  0.480462              2       True   \n",
      "1787     0.186830    True -1.345494  1.307072              1      False   \n",
      "4237    -1.576984    True -0.956180 -1.211706              1       True   \n",
      "\n",
      "      IsActiveMember  EstimatedSalary  Geography_Germany  Geography_Spain  \\\n",
      "3547           False        -1.689972                  0                1   \n",
      "4559           False         1.194581                  1                0   \n",
      "4761            True        -1.420522                  0                0   \n",
      "1787           False        -1.080005                  0                0   \n",
      "4237           False         1.568483                  0                0   \n",
      "\n",
      "      ...  Tenure_1.0  Tenure_2.0  Tenure_3.0  Tenure_4.0  Tenure_5.0  \\\n",
      "3547  ...           0           0           0           0           0   \n",
      "4559  ...           0           0           0           0           0   \n",
      "4761  ...           0           0           1           0           0   \n",
      "1787  ...           0           0           0           0           0   \n",
      "4237  ...           0           0           0           0           0   \n",
      "\n",
      "      Tenure_6.0  Tenure_7.0  Tenure_8.0  Tenure_9.0  Tenure_10.0  \n",
      "3547           1           0           0           0            0  \n",
      "4559           0           1           0           0            0  \n",
      "4761           0           0           0           0            0  \n",
      "1787           0           0           0           0            0  \n",
      "4237           0           0           0           1            0  \n",
      "\n",
      "[5 rows x 21 columns]\n",
      "3547   -1.689972\n",
      "4559    1.194581\n",
      "4761   -1.420522\n",
      "1787   -1.080005\n",
      "4237    1.568483\n",
      "Name: EstimatedSalary, dtype: float64\n"
     ]
    }
   ],
   "source": [
    "print(features_train.head())\n",
    "print(features_train['EstimatedSalary'].head())"
   ]
  },
  {
   "cell_type": "markdown",
   "metadata": {},
   "source": [
    " ***Вывод: кодирование и масштабирование данных прошло успешно.***"
   ]
  },
  {
   "cell_type": "markdown",
   "metadata": {},
   "source": [
    " \n",
    " "
   ]
  },
  {
   "cell_type": "markdown",
   "metadata": {},
   "source": [
    "***Обучим модель и подсчитаем показательF1-меры***"
   ]
  },
  {
   "cell_type": "code",
   "execution_count": 19,
   "metadata": {},
   "outputs": [
    {
     "name": "stdout",
     "output_type": "stream",
     "text": [
      "0.546583850931677\n"
     ]
    }
   ],
   "source": [
    "\n",
    "model = RandomForestClassifier(random_state=12345)\n",
    "model.fit(features_train, target_train)\n",
    "predicted_valid = model.predict(features_valid)\n",
    "f1_score  = f1_score(target_valid, predicted_valid)\n",
    "print(f1_score)"
   ]
  },
  {
   "cell_type": "markdown",
   "metadata": {},
   "source": [
    "\n"
   ]
  },
  {
   "cell_type": "markdown",
   "metadata": {},
   "source": [
    "***Вывод***\n",
    "\n",
    "Выше был рассчитан показатель F1-меры - это взвешенное гармоническое среднее значение точности и полноты.\n",
    "Значений F1-меры:\n",
    "\n",
    "- для модели случайного дерева = 0.546583850931677\n",
    "\n",
    "Что не плохо, но может быть лучше, так как наилучшее значение этого показателя стремится к 1, а наихудшее к 0.\n",
    "\n",
    "\n",
    "Улучшим качество модели для прогнозирования, учитывая дисбаланс классов. "
   ]
  },
  {
   "cell_type": "markdown",
   "metadata": {},
   "source": [
    "## Борьба с дисбалансом"
   ]
  },
  {
   "cell_type": "markdown",
   "metadata": {},
   "source": [
    "***Увеличим качество модели, исправив дисбаланс классов***\n",
    "\n",
    "1.Добавим параметр  class_weight='balanced' в модель DecisionTreeClassifier\n",
    "\n",
    "2.Изменим выборку\n",
    "\n",
    "3.Изменим порог"
   ]
  },
  {
   "cell_type": "code",
   "execution_count": 22,
   "metadata": {},
   "outputs": [
    {
     "name": "stdout",
     "output_type": "stream",
     "text": [
      "0.5281018027571581\n"
     ]
    }
   ],
   "source": [
    "#придадим объектам редкого класса больший вес\n",
    "\n",
    "model = RandomForestClassifier(random_state=12345, class_weight='balanced')\n",
    "model.fit(features_train, target_train)\n",
    "predicted_valid = model.predict(features_valid)\n",
    "f1_score  = f1_score(target_valid, predicted_valid)\n",
    "print(f1_score)"
   ]
  },
  {
   "cell_type": "markdown",
   "metadata": {},
   "source": [
    "***Вывод***\n",
    "Показатель F1-меры уменьшился с 0.546583850931677 до 0.5281018027571581 (на модели случайного дерева) при введении параментра сбалансированости классов.\n",
    "\n",
    "Теперь увеличим выборку и  сделать объекты редкого класса не такими редкими."
   ]
  },
  {
   "cell_type": "code",
   "execution_count": 23,
   "metadata": {},
   "outputs": [
    {
     "name": "stdout",
     "output_type": "stream",
     "text": [
      "Распределение классов в обучающей выборке после кор-ки дисбаланса True     3260\n",
      "False    3185\n",
      "Name: Exited, dtype: int64\n"
     ]
    }
   ],
   "source": [
    "#разделим обучающую выборку на отрицательные и положительные объекты и зададим с помощью функции \n",
    "#как будет выглядеть новый массив данных\n",
    "\n",
    "def upsample(features, target, repeat):\n",
    "    features_zeros = features[target == 0]\n",
    "    features_ones = features[target == 1]\n",
    "    target_zeros = target[target == 0]\n",
    "    target_ones = target[target == 1]\n",
    "\n",
    "    features_upsampled = pd.concat([features_zeros] + [features_ones] * repeat)\n",
    "    target_upsampled = pd.concat([target_zeros] + [target_ones] * repeat)\n",
    "    \n",
    "    #перемешаем данные функцией shuffle\n",
    "    features_upsampled, target_upsampled = shuffle(\n",
    "        features_upsampled, target_upsampled, random_state=12345)\n",
    "    \n",
    "    return features_upsampled, target_upsampled\n",
    "\n",
    "features_upsampled, target_upsampled = upsample(features_train, target_train, 4)\n",
    "print('Распределение классов в обучающей выборке после кор-ки дисбаланса', target_upsampled.value_counts())"
   ]
  },
  {
   "cell_type": "markdown",
   "metadata": {},
   "source": [
    "После корревтировки дисбаланса классов, теперь мы видим, что положительных ответов - 3260, а отрицательных 3185, а до этого было 815 на 3185"
   ]
  },
  {
   "cell_type": "markdown",
   "metadata": {},
   "source": [
    "\n",
    "Обучим новую модель и выведем показатель F1-меры на экран"
   ]
  },
  {
   "cell_type": "code",
   "execution_count": 25,
   "metadata": {},
   "outputs": [
    {
     "name": "stdout",
     "output_type": "stream",
     "text": [
      "F1: 0.5803489439853076\n"
     ]
    }
   ],
   "source": [
    "from sklearn.metrics import f1_score\n",
    "model = RandomForestClassifier(random_state=12345)\n",
    "model.fit(features_upsampled,target_upsampled)\n",
    "predicted_valid = model.predict(features_valid)\n",
    "\n",
    "\n",
    "print(\"F1:\", f1_score(target_valid, predicted_valid))"
   ]
  },
  {
   "cell_type": "markdown",
   "metadata": {},
   "source": [
    "***Вывод***\n",
    "\n",
    "Теперь показатель F1-меры вырос с 0.546583850931677 до 0.5803489439853076.\n",
    "Этот показатель становится выше, когда мы  увеличиваем выборку и уменьшаетя при  взвешивании классов.\n",
    "\n",
    "Поэтому в дальнейшем будем спользовать метод увеличения выборки.\n"
   ]
  },
  {
   "cell_type": "markdown",
   "metadata": {},
   "source": [
    "***Теперь изменим порог и посмотрим на показатели***"
   ]
  },
  {
   "cell_type": "code",
   "execution_count": 26,
   "metadata": {},
   "outputs": [
    {
     "name": "stdout",
     "output_type": "stream",
     "text": [
      "[0.   0.49 0.03 0.25 0.03]\n"
     ]
    }
   ],
   "source": [
    "#найдем значений вероятностей классов для валидационной выборки\n",
    "probabilities_valid = model.predict_proba(features_valid)\n",
    "\n",
    "#значения вероятностей класса «1» сохраните в переменной probabilities_one_valid\n",
    "probabilities_one_valid = probabilities_valid[:, 1]\n",
    "print(probabilities_one_valid[:5])"
   ]
  },
  {
   "cell_type": "code",
   "execution_count": 27,
   "metadata": {
    "scrolled": true
   },
   "outputs": [
    {
     "name": "stdout",
     "output_type": "stream",
     "text": [
      "Порог = 0.00 | Точность = 0.207, Полнота = 0.997\n",
      "Порог = 0.02 | Точность = 0.224, Полнота = 0.992\n",
      "Порог = 0.04 | Точность = 0.238, Полнота = 0.975\n",
      "Порог = 0.06 | Точность = 0.254, Полнота = 0.962\n",
      "Порог = 0.08 | Точность = 0.270, Полнота = 0.941\n",
      "Порог = 0.10 | Точность = 0.285, Полнота = 0.918\n",
      "Порог = 0.12 | Точность = 0.305, Полнота = 0.907\n",
      "Порог = 0.14 | Точность = 0.325, Полнота = 0.897\n",
      "Порог = 0.16 | Точность = 0.342, Полнота = 0.877\n",
      "Порог = 0.18 | Точность = 0.364, Полнота = 0.867\n",
      "Порог = 0.20 | Точность = 0.380, Полнота = 0.845\n",
      "Порог = 0.22 | Точность = 0.400, Полнота = 0.820\n",
      "Порог = 0.24 | Точность = 0.417, Полнота = 0.805\n",
      "Порог = 0.26 | Точность = 0.436, Полнота = 0.787\n",
      "Порог = 0.28 | Точность = 0.455, Полнота = 0.764\n",
      "Порог = 0.30 | Точность = 0.470, Полнота = 0.740\n",
      "Порог = 0.32 | Точность = 0.488, Полнота = 0.718\n",
      "Порог = 0.34 | Точность = 0.504, Полнота = 0.699\n",
      "Порог = 0.36 | Точность = 0.521, Полнота = 0.676\n",
      "Порог = 0.38 | Точность = 0.549, Полнота = 0.655\n",
      "Порог = 0.40 | Точность = 0.572, Полнота = 0.640\n",
      "Порог = 0.42 | Точность = 0.591, Полнота = 0.607\n",
      "Порог = 0.44 | Точность = 0.600, Полнота = 0.591\n",
      "Порог = 0.46 | Точность = 0.627, Полнота = 0.571\n",
      "Порог = 0.48 | Точность = 0.643, Полнота = 0.542\n",
      "Порог = 0.50 | Точность = 0.661, Полнота = 0.517\n",
      "Порог = 0.52 | Точность = 0.668, Полнота = 0.504\n",
      "Порог = 0.54 | Точность = 0.687, Полнота = 0.481\n",
      "Порог = 0.56 | Точность = 0.693, Полнота = 0.450\n",
      "Порог = 0.58 | Точность = 0.723, Полнота = 0.435\n"
     ]
    }
   ],
   "source": [
    "#переберем значения порогов от 0 до 0.3 с шагом 0.02. Найдите для каждого значения точность \n",
    "#и полноту и F1-меру \n",
    "\n",
    "for threshold in np.arange(0, 0.6, 0.02):\n",
    "    predicted_valid = probabilities_one_valid > threshold # < напишите код здесь >\n",
    "    precision = precision_score(target_valid, predicted_valid)# < напишите код здесь >\n",
    "    recall = recall_score(target_valid, predicted_valid)# < напишите код здесь >\n",
    "    #f1_score  = f1_score(target_valid, predicted_valid)\n",
    "    print(\"Порог = {:.2f} | Точность = {:.3f}, Полнота = {:.3f}\".format(threshold, precision, recall))\n",
    "   "
   ]
  },
  {
   "cell_type": "markdown",
   "metadata": {},
   "source": [
    "Как видно выше, чем выше порог, тем выше значение точности. Поэтом убудем использовать установленный по умолчанию порог в 0.5."
   ]
  },
  {
   "cell_type": "code",
   "execution_count": 31,
   "metadata": {},
   "outputs": [
    {
     "name": "stdout",
     "output_type": "stream",
     "text": [
      "Наибольшая доля правильных ответов: 0.5902527075812275\n",
      "Наилучее число деревьев в модели 47\n"
     ]
    }
   ],
   "source": [
    "#1 этап для  RandomForestClassifier\n",
    "#подберем наилучшую модель случайного леса с числом деревьев от 1 до 50\n",
    " \n",
    "best_depth = 0\n",
    "best_est = 0\n",
    "best_result = 0 \n",
    "for est in range(1, 50):\n",
    "    model = RandomForestClassifier(random_state=12345, n_estimators=est)\n",
    "    model.fit(features_upsampled,target_upsampled) #обучаем модель на тренировочной выборке\n",
    "    predictions_valid = model.predict(features_valid)\n",
    "    result = f1_score(target_valid, predictions_valid)\n",
    "    if result > best_result:\n",
    "        best_result = result #наибольшая доля правильных ответов\n",
    "        best_est = est\n",
    "      \n",
    "\n",
    "print('Наибольшая доля правильных ответов:', best_result) \n",
    "#print('Наилучшая глубина обученного дерева', best_depth)\n",
    "print('Наилучее число деревьев в модели', best_est)"
   ]
  },
  {
   "cell_type": "code",
   "execution_count": 32,
   "metadata": {},
   "outputs": [
    {
     "name": "stdout",
     "output_type": "stream",
     "text": [
      "Наибольшая доля правильных ответов: 0.6088992974238877\n",
      "Наилучшая глубина обученного дерева 13\n"
     ]
    }
   ],
   "source": [
    "#2 этап для RandomForestClassifier\n",
    "#подберем наилучшую модель случайного леса с числом деревьев от 1 до 20\n",
    " \n",
    "best_depth = 0\n",
    "best_est = 0\n",
    "best_result = 0 \n",
    "for depth in range(1, 50):\n",
    "    model = RandomForestClassifier(random_state=12345, max_depth=depth, n_estimators=47)\n",
    "    model.fit(features_upsampled,target_upsampled) #обучаем модель на тренировочной выборке\n",
    "    predictions_valid = model.predict(features_valid)\n",
    "    result = f1_score(target_valid, predictions_valid)\n",
    "    if result > best_result:\n",
    "        best_result = result #наибольшая доля правильных ответов\n",
    "        best_depth = depth\n",
    "      \n",
    "\n",
    "print('Наибольшая доля правильных ответов:', best_result) \n",
    "print('Наилучшая глубина обученного дерева', best_depth)"
   ]
  },
  {
   "cell_type": "code",
   "execution_count": 33,
   "metadata": {},
   "outputs": [
    {
     "name": "stdout",
     "output_type": "stream",
     "text": [
      "F1: 0.4643891140706427\n"
     ]
    }
   ],
   "source": [
    "#посчитаем метрики качества при применении модели логистической регрессии\n",
    "\n",
    "model = LogisticRegression(random_state=12345, solver='liblinear', class_weight='balanced', max_iter=20)\n",
    "model.fit(features_upsampled,target_upsampled)\n",
    "predicted_valid = model.predict(features_valid)\n",
    "result = f1_score(target_valid, predicted_valid)\n",
    "\n",
    "print(\"F1:\", result)"
   ]
  },
  {
   "cell_type": "markdown",
   "metadata": {},
   "source": [
    "***ВЫВОДЫ***\n",
    "Наилучшиу результат метрики F1 = 0.6088992974238877 дает использование модели Случайного леса (RandomForestClassifier), значит применим ее на финальном тестировани."
   ]
  },
  {
   "cell_type": "markdown",
   "metadata": {},
   "source": [
    "## Тестирование модели"
   ]
  },
  {
   "cell_type": "code",
   "execution_count": 34,
   "metadata": {},
   "outputs": [
    {
     "name": "stdout",
     "output_type": "stream",
     "text": [
      "0.6141975308641976\n"
     ]
    }
   ],
   "source": [
    "#проверим работу модели на тестовой выборке\n",
    "model = RandomForestClassifier(random_state=12345, n_estimators=47, max_depth=13, criterion='gini')\n",
    "model.fit(features_upsampled,target_upsampled)\n",
    "predicted_test = model.predict(features_test) # посчитаем качество модели на валидационной выборке\n",
    "f1_score = f1_score(target_test, predicted_test)\n",
    "print(f1_score) "
   ]
  },
  {
   "cell_type": "markdown",
   "metadata": {},
   "source": [
    "При финальной проверке на тестовых данных модель получила значение F1-меры= 0.6141975308641976. Требовалость, чтобы оно было больше 0,59.\n",
    "\n",
    "Поэтому данная модель принимается для дальнейшего прогнозирования."
   ]
  },
  {
   "cell_type": "markdown",
   "metadata": {},
   "source": [
    "***Метрика ROC-AUC***\n",
    "\n",
    "По горизонтали нанесём долю ложноположительных ответов (FPR), а по вертикали — долю истинно положительных ответов (TPR). Переберём значения порога логистической регрессии и проведём кривую. Она называется ROC-кривая, или кривая ошибок \n",
    "\n",
    "Сравним ее ROС-кривой случайно модели, которая выглядит как прямая.\n"
   ]
  },
  {
   "cell_type": "code",
   "execution_count": 35,
   "metadata": {},
   "outputs": [
    {
     "data": {
      "image/png": "[encoded data removed]",
      "text/plain": [
       "<Figure size 432x288 with 1 Axes>"
      ]
     },
     "metadata": {
      "needs_background": "light"
     },
     "output_type": "display_data"
    }
   ],
   "source": [
    "#построим ROC-кривую или кривую ошибок и справним ее со случайной моделью \n",
    "fpr, tpr, thresholds = roc_curve(target_valid, probabilities_one_valid)  \n",
    "\n",
    "plt.figure()\n",
    "\n",
    "#постройте график\n",
    "plt.plot(fpr, tpr)\n",
    "# ROC-кривая случайной модели (выглядит как прямая)\n",
    "plt.plot([0, 1], [0, 1], linestyle='--')\n",
    "\n",
    "plt.xlim([0.0, 1.0])\n",
    "plt.ylim([0.0, 1.0])\n",
    "plt.xlabel('False Positive Rate')\n",
    "plt.ylabel('True Positive Rate')\n",
    "plt.title('ROC-кривая')\n",
    "plt.show()\n"
   ]
  },
  {
   "cell_type": "markdown",
   "metadata": {},
   "source": [
    "По ROC-кривой можно увидеть самое лучшее соотношение TPR и FPR для нашей модели.\n",
    "По графику наилучшее значение при TPR=0,7 и FPR=0,2."
   ]
  },
  {
   "cell_type": "markdown",
   "metadata": {},
   "source": [
    "Чтобы выявить, как сильно наша модель отличается от случайной, посчитаем площадь под ROC-кривой — AUC-ROC"
   ]
  },
  {
   "cell_type": "code",
   "execution_count": 36,
   "metadata": {},
   "outputs": [
    {
     "name": "stdout",
     "output_type": "stream",
     "text": [
      "ROC_AUC на валидационной выборке: 0.8400381179697728\n",
      "ROC_AUC на тестовой выборке: 0.851283741151308\n"
     ]
    }
   ],
   "source": [
    "#метрика AUC-ROC показывает насколько наша модель отличается от случайно, \n",
    "#UC-ROC случайной модели равна 0.5.\n",
    "#на валидационой выборке\n",
    "\n",
    "probabilities_valid = model.predict_proba(features_valid)\n",
    "probabilities_one_valid = probabilities_valid[:, 1]\n",
    "auc_roc_valid = roc_auc_score(target_valid, probabilities_one_valid)\n",
    "\n",
    "#на тестовой выборке\n",
    "\n",
    "probabilities_test = model.predict_proba(features_test)\n",
    "probabilities_one_test = probabilities_test[:, 1]\n",
    "auc_roc_test = roc_auc_score(target_test, probabilities_one_test)\n",
    "\n",
    "print(\"ROC_AUC на валидационной выборке:\", auc_roc_valid)\n",
    "print(\"ROC_AUC на тестовой выборке:\", auc_roc_test)"
   ]
  },
  {
   "cell_type": "markdown",
   "metadata": {},
   "source": [
    "Это метрика хороша для оценки модели классификации. Она изменяется от 0 до 1, в нашем случае она = 0.851283741151308, что означает нашу модель можно считать хорошей. "
   ]
  },
  {
   "cell_type": "markdown",
   "metadata": {},
   "source": [
    "***ИТОГОВЫЙ ВЫВОД ПО ПРОЕКТУ***\n",
    " \n",
    " \n",
    "В задачу проекта входило подобрать модель, которая сможет спрогнозировать отток клиентов из банка на основе уже имеющейся информации по имеющимся и оставшимся клиентам за определенный период.\n",
    "\n",
    "Было предварительно проанализирвоано 10 000 данных, из них удалили 909 строк с информцией по клиентам, где не ыбло указано сколько лет клиент обсулиживется в банке.\n",
    "\n",
    "После чего было проведено  кодирование и масштабирование данных. Первонаально дисбаланс данных составил: 1 к 3.9. Расчитан он как отношение информации по ушедшим клиентам, п к тем кто осталмя в банке. \n",
    "\n",
    "Первый показатель  F1-меры был расчитан без учета дисбаланса классов на модели случайнгого дерева  и составил 0.546583850931677.\n",
    "\n",
    "Далее учли дисбаланс классов,  увеличил выборку  и подобрали с момощью циклов модель, которая даст наибольший показатель F-1  меры. Так наилучший результат на валидационной выборку показала модель на основе случайного леса с числом деревьев= 47 и глубиной леса = 13, ее показатель  F1 составил 0.6088992974238877.\n",
    "\n",
    "На финальном тестировоние этот показатель уже был равен 0.6141975308641976.\n",
    "Что соотвуетсвуте условиям поставленой задачи, где мы должны были достичь мерики более 0.59.\n",
    "\n",
    "Далее был посчитан показатель ROC-AUC = 0.851283741151308, что считается достаточно высоким и означает, что модель хорошо подходит для прогнозирования.\n"
   ]
  }
 ],
 "metadata": {
  "ExecuteTimeLog": [
   {
    "duration": 44,
    "start_time": "2022-11-23T12:00:22.158Z"
   },
   {
    "duration": 1155,
    "start_time": "2022-11-23T12:00:30.430Z"
   },
   {
    "duration": 86,
    "start_time": "2022-11-23T12:00:33.654Z"
   },
   {
    "duration": 96,
    "start_time": "2022-11-23T12:00:35.938Z"
   },
   {
    "duration": 118,
    "start_time": "2022-11-23T12:02:19.920Z"
   },
   {
    "duration": 115,
    "start_time": "2022-11-23T12:02:34.005Z"
   },
   {
    "duration": 351,
    "start_time": "2022-11-23T12:17:25.414Z"
   },
   {
    "duration": 264,
    "start_time": "2022-11-23T12:18:21.573Z"
   },
   {
    "duration": 6,
    "start_time": "2022-11-23T12:19:15.758Z"
   },
   {
    "duration": 66,
    "start_time": "2022-11-23T12:22:49.011Z"
   },
   {
    "duration": 84,
    "start_time": "2022-11-23T12:23:29.182Z"
   },
   {
    "duration": 113,
    "start_time": "2022-11-23T12:23:32.616Z"
   },
   {
    "duration": 56,
    "start_time": "2022-11-23T12:23:53.367Z"
   },
   {
    "duration": 50,
    "start_time": "2022-11-24T08:39:47.918Z"
   },
   {
    "duration": 996,
    "start_time": "2022-11-24T08:39:57.540Z"
   },
   {
    "duration": 103,
    "start_time": "2022-11-24T08:39:58.538Z"
   },
   {
    "duration": 826,
    "start_time": "2022-11-24T08:39:58.643Z"
   },
   {
    "duration": 5,
    "start_time": "2022-11-24T08:41:47.428Z"
   },
   {
    "duration": 9,
    "start_time": "2022-11-24T08:47:09.916Z"
   },
   {
    "duration": 71,
    "start_time": "2022-11-24T08:53:45.726Z"
   },
   {
    "duration": 18,
    "start_time": "2022-11-24T08:53:55.676Z"
   },
   {
    "duration": 24,
    "start_time": "2022-11-24T08:54:08.128Z"
   },
   {
    "duration": 32,
    "start_time": "2022-11-24T08:55:20.270Z"
   },
   {
    "duration": 24,
    "start_time": "2022-11-24T08:55:52.354Z"
   },
   {
    "duration": 49,
    "start_time": "2022-11-24T08:58:52.342Z"
   },
   {
    "duration": 16,
    "start_time": "2022-11-24T08:59:06.911Z"
   },
   {
    "duration": 12,
    "start_time": "2022-11-24T08:59:20.207Z"
   },
   {
    "duration": 16,
    "start_time": "2022-11-24T09:04:01.177Z"
   },
   {
    "duration": 14,
    "start_time": "2022-11-24T09:04:07.527Z"
   },
   {
    "duration": 10,
    "start_time": "2022-11-24T09:05:01.238Z"
   },
   {
    "duration": 22,
    "start_time": "2022-11-24T09:06:43.644Z"
   },
   {
    "duration": 11,
    "start_time": "2022-11-24T09:07:31.633Z"
   },
   {
    "duration": 146,
    "start_time": "2022-11-24T09:11:38.026Z"
   },
   {
    "duration": 83,
    "start_time": "2022-11-24T09:15:30.407Z"
   },
   {
    "duration": 15,
    "start_time": "2022-11-24T09:15:57.379Z"
   },
   {
    "duration": 9,
    "start_time": "2022-11-24T09:16:16.710Z"
   },
   {
    "duration": 9,
    "start_time": "2022-11-24T09:17:12.875Z"
   },
   {
    "duration": 55,
    "start_time": "2022-11-24T09:20:48.043Z"
   },
   {
    "duration": 23,
    "start_time": "2022-11-24T09:20:56.192Z"
   },
   {
    "duration": 20,
    "start_time": "2022-11-24T09:22:18.534Z"
   },
   {
    "duration": 20,
    "start_time": "2022-11-24T09:22:29.102Z"
   },
   {
    "duration": 28,
    "start_time": "2022-11-24T09:22:43.592Z"
   },
   {
    "duration": 74,
    "start_time": "2022-11-24T09:25:02.967Z"
   },
   {
    "duration": 17,
    "start_time": "2022-11-24T09:25:11.016Z"
   },
   {
    "duration": 5,
    "start_time": "2022-11-24T09:26:50.532Z"
   },
   {
    "duration": 53,
    "start_time": "2022-11-24T09:27:31.308Z"
   },
   {
    "duration": 6,
    "start_time": "2022-11-24T09:27:50.519Z"
   },
   {
    "duration": 7,
    "start_time": "2022-11-24T09:36:33.730Z"
   },
   {
    "duration": 51,
    "start_time": "2022-11-24T09:37:07.437Z"
   },
   {
    "duration": 64,
    "start_time": "2022-11-24T09:37:20.450Z"
   },
   {
    "duration": 8,
    "start_time": "2022-11-24T09:38:17.641Z"
   },
   {
    "duration": 9,
    "start_time": "2022-11-24T09:42:14.672Z"
   },
   {
    "duration": 46,
    "start_time": "2022-11-24T11:54:07.522Z"
   },
   {
    "duration": 1020,
    "start_time": "2022-11-24T11:54:14.037Z"
   },
   {
    "duration": 121,
    "start_time": "2022-11-24T11:54:18.923Z"
   },
   {
    "duration": 6,
    "start_time": "2022-11-24T11:54:24.856Z"
   },
   {
    "duration": 10,
    "start_time": "2022-11-24T11:54:27.639Z"
   },
   {
    "duration": 12,
    "start_time": "2022-11-24T11:54:31.004Z"
   },
   {
    "duration": 11,
    "start_time": "2022-11-24T11:54:56.144Z"
   },
   {
    "duration": 57,
    "start_time": "2022-11-24T12:04:54.462Z"
   },
   {
    "duration": 11,
    "start_time": "2022-11-24T12:15:10.465Z"
   },
   {
    "duration": 11,
    "start_time": "2022-11-24T12:16:22.627Z"
   },
   {
    "duration": 54,
    "start_time": "2022-11-24T12:16:46.538Z"
   },
   {
    "duration": 8,
    "start_time": "2022-11-24T12:36:35.667Z"
   },
   {
    "duration": 23,
    "start_time": "2022-11-24T12:36:50.089Z"
   },
   {
    "duration": 27,
    "start_time": "2022-11-24T12:37:00.021Z"
   },
   {
    "duration": 3,
    "start_time": "2022-11-24T12:37:15.691Z"
   },
   {
    "duration": 79,
    "start_time": "2022-11-24T12:37:15.695Z"
   },
   {
    "duration": 7,
    "start_time": "2022-11-24T12:37:15.775Z"
   },
   {
    "duration": 20,
    "start_time": "2022-11-24T12:37:15.783Z"
   },
   {
    "duration": 942,
    "start_time": "2022-11-24T12:37:15.833Z"
   },
   {
    "duration": 0,
    "start_time": "2022-11-24T12:37:16.777Z"
   },
   {
    "duration": 0,
    "start_time": "2022-11-24T12:37:16.778Z"
   },
   {
    "duration": 220,
    "start_time": "2022-11-24T12:37:41.112Z"
   },
   {
    "duration": 43,
    "start_time": "2022-11-24T12:37:49.445Z"
   },
   {
    "duration": 17,
    "start_time": "2022-11-24T12:37:52.609Z"
   },
   {
    "duration": 7,
    "start_time": "2022-11-24T12:41:05.562Z"
   },
   {
    "duration": 43,
    "start_time": "2022-11-24T12:49:08.958Z"
   },
   {
    "duration": 13,
    "start_time": "2022-11-24T12:49:25.026Z"
   },
   {
    "duration": 9,
    "start_time": "2022-11-24T12:50:07.278Z"
   },
   {
    "duration": 199,
    "start_time": "2022-11-24T12:50:17.428Z"
   },
   {
    "duration": 17,
    "start_time": "2022-11-24T12:50:22.813Z"
   },
   {
    "duration": 1085,
    "start_time": "2022-11-24T12:57:33.045Z"
   },
   {
    "duration": 201,
    "start_time": "2022-11-24T12:57:58.465Z"
   },
   {
    "duration": 43,
    "start_time": "2022-11-24T12:58:02.664Z"
   },
   {
    "duration": 17,
    "start_time": "2022-11-24T12:58:33.518Z"
   },
   {
    "duration": 16,
    "start_time": "2022-11-24T12:58:39.655Z"
   },
   {
    "duration": 862,
    "start_time": "2022-11-24T13:00:33.865Z"
   },
   {
    "duration": 3153,
    "start_time": "2022-11-24T13:00:42.264Z"
   },
   {
    "duration": 1236,
    "start_time": "2022-11-24T13:00:58.185Z"
   },
   {
    "duration": 113,
    "start_time": "2022-11-24T13:01:51.641Z"
   },
   {
    "duration": 1672,
    "start_time": "2022-11-24T13:03:19.344Z"
   },
   {
    "duration": 3,
    "start_time": "2022-11-24T13:03:37.500Z"
   },
   {
    "duration": 1663,
    "start_time": "2022-11-24T13:03:42.154Z"
   },
   {
    "duration": 1697,
    "start_time": "2022-11-24T13:04:00.419Z"
   },
   {
    "duration": 20,
    "start_time": "2022-11-24T13:05:40.902Z"
   },
   {
    "duration": 1938,
    "start_time": "2022-11-24T13:06:01.037Z"
   },
   {
    "duration": 1850,
    "start_time": "2022-11-24T13:12:49.069Z"
   },
   {
    "duration": 10,
    "start_time": "2022-11-24T13:14:19.550Z"
   },
   {
    "duration": 1855,
    "start_time": "2022-11-24T13:14:27.458Z"
   },
   {
    "duration": 8,
    "start_time": "2022-11-24T13:14:33.245Z"
   },
   {
    "duration": 7,
    "start_time": "2022-11-24T13:14:50.214Z"
   },
   {
    "duration": 1892,
    "start_time": "2022-11-24T13:14:57.647Z"
   },
   {
    "duration": 3,
    "start_time": "2022-11-24T13:15:04.018Z"
   },
   {
    "duration": 73,
    "start_time": "2022-11-24T13:15:04.023Z"
   },
   {
    "duration": 8,
    "start_time": "2022-11-24T13:15:04.098Z"
   },
   {
    "duration": 15,
    "start_time": "2022-11-24T13:15:04.108Z"
   },
   {
    "duration": 181,
    "start_time": "2022-11-24T13:15:04.125Z"
   },
   {
    "duration": 90,
    "start_time": "2022-11-24T13:15:04.308Z"
   },
   {
    "duration": 1847,
    "start_time": "2022-11-24T13:15:04.399Z"
   },
   {
    "duration": 3,
    "start_time": "2022-11-24T13:22:21.113Z"
   },
   {
    "duration": 1232,
    "start_time": "2022-11-24T13:25:01.949Z"
   },
   {
    "duration": 116,
    "start_time": "2022-11-24T13:33:44.108Z"
   },
   {
    "duration": 1697,
    "start_time": "2022-11-24T13:36:19.025Z"
   },
   {
    "duration": 1733,
    "start_time": "2022-11-24T13:37:30.983Z"
   },
   {
    "duration": 1680,
    "start_time": "2022-11-24T13:38:16.072Z"
   },
   {
    "duration": 3,
    "start_time": "2022-11-25T08:49:04.320Z"
   },
   {
    "duration": 11,
    "start_time": "2022-11-25T08:49:55.092Z"
   },
   {
    "duration": 1158,
    "start_time": "2022-11-25T08:50:12.369Z"
   },
   {
    "duration": 78,
    "start_time": "2022-11-25T08:50:13.529Z"
   },
   {
    "duration": 9,
    "start_time": "2022-11-25T08:50:13.608Z"
   },
   {
    "duration": 14,
    "start_time": "2022-11-25T08:50:13.618Z"
   },
   {
    "duration": 241,
    "start_time": "2022-11-25T08:50:13.635Z"
   },
   {
    "duration": 186,
    "start_time": "2022-11-25T08:50:13.877Z"
   },
   {
    "duration": 0,
    "start_time": "2022-11-25T08:50:14.065Z"
   },
   {
    "duration": 0,
    "start_time": "2022-11-25T08:50:14.066Z"
   },
   {
    "duration": 0,
    "start_time": "2022-11-25T08:50:14.067Z"
   },
   {
    "duration": 91,
    "start_time": "2022-11-25T08:51:26.688Z"
   },
   {
    "duration": 6,
    "start_time": "2022-11-25T08:52:20.642Z"
   },
   {
    "duration": 9,
    "start_time": "2022-11-25T08:52:24.950Z"
   },
   {
    "duration": 9,
    "start_time": "2022-11-25T08:52:27.598Z"
   },
   {
    "duration": 228,
    "start_time": "2022-11-25T08:52:30.915Z"
   },
   {
    "duration": 91,
    "start_time": "2022-11-25T08:54:58.396Z"
   },
   {
    "duration": 1091,
    "start_time": "2022-11-25T09:35:15.090Z"
   },
   {
    "duration": 80,
    "start_time": "2022-11-25T09:35:16.184Z"
   },
   {
    "duration": 7,
    "start_time": "2022-11-25T09:35:16.265Z"
   },
   {
    "duration": 27,
    "start_time": "2022-11-25T09:35:16.274Z"
   },
   {
    "duration": 246,
    "start_time": "2022-11-25T09:35:16.303Z"
   },
   {
    "duration": 191,
    "start_time": "2022-11-25T09:35:16.551Z"
   },
   {
    "duration": 0,
    "start_time": "2022-11-25T09:35:16.744Z"
   },
   {
    "duration": 0,
    "start_time": "2022-11-25T09:35:16.746Z"
   },
   {
    "duration": 0,
    "start_time": "2022-11-25T09:35:16.751Z"
   },
   {
    "duration": 127,
    "start_time": "2022-11-25T09:39:03.712Z"
   },
   {
    "duration": 2218,
    "start_time": "2022-11-25T09:39:18.013Z"
   },
   {
    "duration": 7685,
    "start_time": "2022-11-25T09:39:20.233Z"
   },
   {
    "duration": 0,
    "start_time": "2022-11-25T09:39:27.919Z"
   },
   {
    "duration": 18,
    "start_time": "2022-11-25T09:39:41.244Z"
   },
   {
    "duration": 2008,
    "start_time": "2022-11-25T09:40:47.385Z"
   },
   {
    "duration": 1176,
    "start_time": "2022-11-25T09:41:01.616Z"
   },
   {
    "duration": 85,
    "start_time": "2022-11-25T09:41:02.795Z"
   },
   {
    "duration": 8,
    "start_time": "2022-11-25T09:41:02.883Z"
   },
   {
    "duration": 23,
    "start_time": "2022-11-25T09:41:02.893Z"
   },
   {
    "duration": 256,
    "start_time": "2022-11-25T09:41:02.918Z"
   },
   {
    "duration": 151,
    "start_time": "2022-11-25T09:41:03.176Z"
   },
   {
    "duration": 1958,
    "start_time": "2022-11-25T09:41:03.328Z"
   },
   {
    "duration": 7741,
    "start_time": "2022-11-25T09:41:05.287Z"
   },
   {
    "duration": 0,
    "start_time": "2022-11-25T09:41:13.030Z"
   },
   {
    "duration": 1764,
    "start_time": "2022-11-25T09:41:38.724Z"
   },
   {
    "duration": 1174,
    "start_time": "2022-11-25T14:45:28.972Z"
   },
   {
    "duration": 219,
    "start_time": "2022-11-25T14:45:30.148Z"
   },
   {
    "duration": 7,
    "start_time": "2022-11-25T14:45:30.368Z"
   },
   {
    "duration": 54,
    "start_time": "2022-11-25T14:45:30.377Z"
   },
   {
    "duration": 367,
    "start_time": "2022-11-25T14:45:30.433Z"
   },
   {
    "duration": 152,
    "start_time": "2022-11-25T14:45:30.801Z"
   },
   {
    "duration": 1884,
    "start_time": "2022-11-25T14:45:30.955Z"
   },
   {
    "duration": 7500,
    "start_time": "2022-11-25T14:45:32.841Z"
   },
   {
    "duration": 0,
    "start_time": "2022-11-25T14:45:40.343Z"
   },
   {
    "duration": 1574,
    "start_time": "2022-11-25T14:46:34.187Z"
   },
   {
    "duration": 7,
    "start_time": "2022-11-25T14:49:10.408Z"
   },
   {
    "duration": 16,
    "start_time": "2022-11-25T14:49:20.904Z"
   },
   {
    "duration": 228,
    "start_time": "2022-11-25T15:06:19.088Z"
   },
   {
    "duration": 191,
    "start_time": "2022-11-25T15:06:28.692Z"
   },
   {
    "duration": 18,
    "start_time": "2022-11-25T15:07:05.830Z"
   },
   {
    "duration": 231,
    "start_time": "2022-11-25T15:07:10.078Z"
   },
   {
    "duration": 3,
    "start_time": "2022-11-25T15:07:27.782Z"
   },
   {
    "duration": 69,
    "start_time": "2022-11-25T15:07:30.291Z"
   },
   {
    "duration": 10,
    "start_time": "2022-11-25T15:07:35.463Z"
   },
   {
    "duration": 22,
    "start_time": "2022-11-25T15:07:39.164Z"
   },
   {
    "duration": 107,
    "start_time": "2022-11-25T15:12:45.721Z"
   },
   {
    "duration": 13,
    "start_time": "2022-11-25T15:12:51.471Z"
   },
   {
    "duration": 17,
    "start_time": "2022-11-25T15:13:45.994Z"
   },
   {
    "duration": 14,
    "start_time": "2022-11-25T15:13:59.320Z"
   },
   {
    "duration": 1914,
    "start_time": "2022-11-25T15:16:55.340Z"
   },
   {
    "duration": 1896,
    "start_time": "2022-11-25T15:16:59.306Z"
   },
   {
    "duration": 7502,
    "start_time": "2022-11-25T15:17:01.576Z"
   },
   {
    "duration": 3,
    "start_time": "2022-11-25T15:17:23.747Z"
   },
   {
    "duration": 63,
    "start_time": "2022-11-25T15:17:26.612Z"
   },
   {
    "duration": 1849,
    "start_time": "2022-11-25T15:18:43.525Z"
   },
   {
    "duration": 1620,
    "start_time": "2022-11-25T15:23:04.288Z"
   },
   {
    "duration": 1600,
    "start_time": "2022-11-25T15:25:28.121Z"
   },
   {
    "duration": 3,
    "start_time": "2022-11-25T15:30:23.674Z"
   },
   {
    "duration": 1079,
    "start_time": "2022-11-25T15:53:45.050Z"
   },
   {
    "duration": 79,
    "start_time": "2022-11-25T15:53:46.132Z"
   },
   {
    "duration": 108,
    "start_time": "2022-11-25T15:53:46.213Z"
   },
   {
    "duration": 0,
    "start_time": "2022-11-25T15:53:46.322Z"
   },
   {
    "duration": 0,
    "start_time": "2022-11-25T15:53:46.324Z"
   },
   {
    "duration": 0,
    "start_time": "2022-11-25T15:53:46.325Z"
   },
   {
    "duration": 0,
    "start_time": "2022-11-25T15:53:46.326Z"
   },
   {
    "duration": 0,
    "start_time": "2022-11-25T15:53:46.327Z"
   },
   {
    "duration": 0,
    "start_time": "2022-11-25T15:53:46.328Z"
   },
   {
    "duration": 0,
    "start_time": "2022-11-25T15:53:46.329Z"
   },
   {
    "duration": 0,
    "start_time": "2022-11-25T15:53:46.330Z"
   },
   {
    "duration": 15,
    "start_time": "2022-11-25T15:56:20.083Z"
   },
   {
    "duration": 15,
    "start_time": "2022-11-25T15:59:00.555Z"
   },
   {
    "duration": 10,
    "start_time": "2022-11-25T16:03:03.815Z"
   },
   {
    "duration": 10,
    "start_time": "2022-11-25T16:04:52.873Z"
   },
   {
    "duration": 1093,
    "start_time": "2022-11-25T16:05:03.993Z"
   },
   {
    "duration": 74,
    "start_time": "2022-11-25T16:05:05.088Z"
   },
   {
    "duration": 14,
    "start_time": "2022-11-25T16:05:05.164Z"
   },
   {
    "duration": 14,
    "start_time": "2022-11-25T16:05:05.179Z"
   },
   {
    "duration": 37,
    "start_time": "2022-11-25T16:05:05.194Z"
   },
   {
    "duration": 237,
    "start_time": "2022-11-25T16:05:05.233Z"
   },
   {
    "duration": 132,
    "start_time": "2022-11-25T16:05:05.472Z"
   },
   {
    "duration": 10,
    "start_time": "2022-11-25T16:05:05.606Z"
   },
   {
    "duration": 733,
    "start_time": "2022-11-25T16:05:05.618Z"
   },
   {
    "duration": 447,
    "start_time": "2022-11-25T16:05:06.352Z"
   },
   {
    "duration": 148,
    "start_time": "2022-11-25T16:05:06.804Z"
   },
   {
    "duration": 2,
    "start_time": "2022-11-25T16:10:16.901Z"
   },
   {
    "duration": 1187,
    "start_time": "2022-11-25T16:10:46.746Z"
   },
   {
    "duration": 1059,
    "start_time": "2022-11-25T16:11:00.831Z"
   },
   {
    "duration": 74,
    "start_time": "2022-11-25T16:11:01.893Z"
   },
   {
    "duration": 15,
    "start_time": "2022-11-25T16:11:01.969Z"
   },
   {
    "duration": 7,
    "start_time": "2022-11-25T16:11:01.985Z"
   },
   {
    "duration": 22,
    "start_time": "2022-11-25T16:11:01.994Z"
   },
   {
    "duration": 231,
    "start_time": "2022-11-25T16:11:02.018Z"
   },
   {
    "duration": 132,
    "start_time": "2022-11-25T16:11:02.250Z"
   },
   {
    "duration": 9,
    "start_time": "2022-11-25T16:11:02.384Z"
   },
   {
    "duration": 697,
    "start_time": "2022-11-25T16:11:02.404Z"
   },
   {
    "duration": 458,
    "start_time": "2022-11-25T16:11:03.105Z"
   },
   {
    "duration": 135,
    "start_time": "2022-11-25T16:11:03.564Z"
   },
   {
    "duration": 0,
    "start_time": "2022-11-25T16:11:03.701Z"
   },
   {
    "duration": 96,
    "start_time": "2022-11-25T16:11:41.271Z"
   },
   {
    "duration": 621,
    "start_time": "2022-11-25T16:11:46.172Z"
   },
   {
    "duration": 608,
    "start_time": "2022-11-25T16:12:07.091Z"
   },
   {
    "duration": 631,
    "start_time": "2022-11-25T16:13:56.002Z"
   },
   {
    "duration": 67,
    "start_time": "2022-11-25T16:14:04.555Z"
   },
   {
    "duration": 586,
    "start_time": "2022-11-25T16:14:10.868Z"
   },
   {
    "duration": 3,
    "start_time": "2022-11-25T16:19:22.940Z"
   },
   {
    "duration": 37,
    "start_time": "2022-11-25T16:20:45.496Z"
   },
   {
    "duration": 73,
    "start_time": "2022-11-25T16:27:31.736Z"
   },
   {
    "duration": 13,
    "start_time": "2022-11-25T16:27:59.579Z"
   },
   {
    "duration": 4,
    "start_time": "2022-11-25T16:28:41.656Z"
   },
   {
    "duration": 45,
    "start_time": "2022-11-25T16:28:48.120Z"
   },
   {
    "duration": 59,
    "start_time": "2022-11-25T16:29:46.914Z"
   },
   {
    "duration": 169,
    "start_time": "2022-11-25T16:33:23.236Z"
   },
   {
    "duration": 1093,
    "start_time": "2022-11-25T16:34:00.086Z"
   },
   {
    "duration": 75,
    "start_time": "2022-11-25T16:34:01.181Z"
   },
   {
    "duration": 14,
    "start_time": "2022-11-25T16:34:01.258Z"
   },
   {
    "duration": 65,
    "start_time": "2022-11-25T16:34:01.274Z"
   },
   {
    "duration": 75,
    "start_time": "2022-11-25T16:34:01.341Z"
   },
   {
    "duration": 256,
    "start_time": "2022-11-25T16:34:01.418Z"
   },
   {
    "duration": 140,
    "start_time": "2022-11-25T16:34:01.675Z"
   },
   {
    "duration": 10,
    "start_time": "2022-11-25T16:34:01.816Z"
   },
   {
    "duration": 713,
    "start_time": "2022-11-25T16:34:01.828Z"
   },
   {
    "duration": 435,
    "start_time": "2022-11-25T16:34:02.542Z"
   },
   {
    "duration": 89,
    "start_time": "2022-11-25T16:34:02.978Z"
   },
   {
    "duration": 578,
    "start_time": "2022-11-25T16:34:03.069Z"
   },
   {
    "duration": 38,
    "start_time": "2022-11-25T16:34:03.649Z"
   },
   {
    "duration": 65,
    "start_time": "2022-11-25T16:34:03.689Z"
   },
   {
    "duration": 4254,
    "start_time": "2022-11-25T16:34:03.755Z"
   },
   {
    "duration": 277,
    "start_time": "2022-11-25T16:35:56.037Z"
   },
   {
    "duration": 179,
    "start_time": "2022-11-25T16:36:14.205Z"
   },
   {
    "duration": 183,
    "start_time": "2022-11-25T16:36:22.742Z"
   },
   {
    "duration": 344,
    "start_time": "2022-11-25T16:37:50.017Z"
   },
   {
    "duration": 322,
    "start_time": "2022-11-25T16:38:55.388Z"
   },
   {
    "duration": 675,
    "start_time": "2022-11-25T16:39:14.544Z"
   },
   {
    "duration": 450,
    "start_time": "2022-11-25T16:44:00.444Z"
   },
   {
    "duration": 7155,
    "start_time": "2022-11-25T16:44:18.012Z"
   },
   {
    "duration": 396,
    "start_time": "2022-11-25T16:44:43.172Z"
   },
   {
    "duration": 378,
    "start_time": "2022-11-25T16:45:13.698Z"
   },
   {
    "duration": 70,
    "start_time": "2022-11-25T16:45:19.581Z"
   },
   {
    "duration": 398,
    "start_time": "2022-11-25T16:45:26.483Z"
   },
   {
    "duration": 385,
    "start_time": "2022-11-25T16:45:36.751Z"
   },
   {
    "duration": 12972,
    "start_time": "2022-11-25T16:46:05.172Z"
   },
   {
    "duration": 125,
    "start_time": "2022-11-25T16:53:18.886Z"
   },
   {
    "duration": 124,
    "start_time": "2022-11-25T16:53:44.208Z"
   },
   {
    "duration": 16,
    "start_time": "2022-11-25T16:54:43.180Z"
   },
   {
    "duration": 1068,
    "start_time": "2022-11-25T16:55:17.635Z"
   },
   {
    "duration": 72,
    "start_time": "2022-11-25T16:55:18.705Z"
   },
   {
    "duration": 15,
    "start_time": "2022-11-25T16:55:18.779Z"
   },
   {
    "duration": 7,
    "start_time": "2022-11-25T16:55:18.795Z"
   },
   {
    "duration": 15,
    "start_time": "2022-11-25T16:55:18.804Z"
   },
   {
    "duration": 234,
    "start_time": "2022-11-25T16:55:18.820Z"
   },
   {
    "duration": 127,
    "start_time": "2022-11-25T16:55:19.056Z"
   },
   {
    "duration": 23,
    "start_time": "2022-11-25T16:55:19.185Z"
   },
   {
    "duration": 668,
    "start_time": "2022-11-25T16:55:19.210Z"
   },
   {
    "duration": 461,
    "start_time": "2022-11-25T16:55:19.881Z"
   },
   {
    "duration": 101,
    "start_time": "2022-11-25T16:55:20.344Z"
   },
   {
    "duration": 607,
    "start_time": "2022-11-25T16:55:20.447Z"
   },
   {
    "duration": 131,
    "start_time": "2022-11-25T16:55:21.056Z"
   },
   {
    "duration": 109,
    "start_time": "2022-11-25T16:55:21.189Z"
   },
   {
    "duration": 0,
    "start_time": "2022-11-25T16:55:21.300Z"
   },
   {
    "duration": 0,
    "start_time": "2022-11-25T16:55:21.304Z"
   },
   {
    "duration": 37,
    "start_time": "2022-11-25T16:56:15.589Z"
   },
   {
    "duration": 44,
    "start_time": "2022-11-25T16:56:19.656Z"
   },
   {
    "duration": 55,
    "start_time": "2022-11-25T16:56:38.375Z"
   },
   {
    "duration": 383,
    "start_time": "2022-11-25T16:58:17.524Z"
   },
   {
    "duration": 545,
    "start_time": "2022-11-25T16:59:28.862Z"
   },
   {
    "duration": 535,
    "start_time": "2022-11-25T16:59:40.670Z"
   },
   {
    "duration": 1037,
    "start_time": "2022-11-25T17:01:25.362Z"
   },
   {
    "duration": 75,
    "start_time": "2022-11-25T17:01:26.401Z"
   },
   {
    "duration": 13,
    "start_time": "2022-11-25T17:01:26.477Z"
   },
   {
    "duration": 6,
    "start_time": "2022-11-25T17:01:26.492Z"
   },
   {
    "duration": 13,
    "start_time": "2022-11-25T17:01:26.500Z"
   },
   {
    "duration": 228,
    "start_time": "2022-11-25T17:01:26.514Z"
   },
   {
    "duration": 133,
    "start_time": "2022-11-25T17:01:26.744Z"
   },
   {
    "duration": 10,
    "start_time": "2022-11-25T17:01:26.879Z"
   },
   {
    "duration": 686,
    "start_time": "2022-11-25T17:01:26.891Z"
   },
   {
    "duration": 431,
    "start_time": "2022-11-25T17:01:27.579Z"
   },
   {
    "duration": 93,
    "start_time": "2022-11-25T17:01:28.011Z"
   },
   {
    "duration": 598,
    "start_time": "2022-11-25T17:01:28.106Z"
   },
   {
    "duration": 36,
    "start_time": "2022-11-25T17:01:28.705Z"
   },
   {
    "duration": 41,
    "start_time": "2022-11-25T17:01:28.743Z"
   },
   {
    "duration": 12798,
    "start_time": "2022-11-25T17:01:28.785Z"
   },
   {
    "duration": 408,
    "start_time": "2022-11-25T17:01:41.585Z"
   },
   {
    "duration": 45512,
    "start_time": "2022-11-25T17:01:41.995Z"
   },
   {
    "duration": 0,
    "start_time": "2022-11-25T17:02:27.509Z"
   },
   {
    "duration": 12649,
    "start_time": "2022-11-25T17:02:28.543Z"
   },
   {
    "duration": 71333,
    "start_time": "2022-11-25T17:02:56.537Z"
   },
   {
    "duration": 3544,
    "start_time": "2022-11-25T17:05:16.749Z"
   },
   {
    "duration": 115,
    "start_time": "2022-11-25T17:09:32.369Z"
   },
   {
    "duration": 2,
    "start_time": "2022-11-25T17:10:32.949Z"
   },
   {
    "duration": 9,
    "start_time": "2022-11-25T17:12:21.748Z"
   },
   {
    "duration": 5,
    "start_time": "2022-11-25T17:12:56.350Z"
   },
   {
    "duration": 11,
    "start_time": "2022-11-25T17:18:08.757Z"
   },
   {
    "duration": 403,
    "start_time": "2022-11-25T17:18:25.357Z"
   },
   {
    "duration": 113,
    "start_time": "2022-11-25T17:18:34.605Z"
   },
   {
    "duration": 6,
    "start_time": "2022-11-25T17:20:45.440Z"
   },
   {
    "duration": 57,
    "start_time": "2022-11-26T09:01:57.817Z"
   },
   {
    "duration": 8,
    "start_time": "2022-11-26T09:13:09.385Z"
   },
   {
    "duration": 1863,
    "start_time": "2022-11-26T09:13:37.234Z"
   },
   {
    "duration": 92,
    "start_time": "2022-11-26T09:13:44.677Z"
   },
   {
    "duration": 1434,
    "start_time": "2022-11-26T09:14:10.803Z"
   },
   {
    "duration": 225,
    "start_time": "2022-11-26T09:14:12.239Z"
   },
   {
    "duration": 24,
    "start_time": "2022-11-26T09:14:12.469Z"
   },
   {
    "duration": 11,
    "start_time": "2022-11-26T09:14:12.495Z"
   },
   {
    "duration": 24,
    "start_time": "2022-11-26T09:14:12.508Z"
   },
   {
    "duration": 255,
    "start_time": "2022-11-26T09:14:12.553Z"
   },
   {
    "duration": 160,
    "start_time": "2022-11-26T09:14:12.810Z"
   },
   {
    "duration": 13,
    "start_time": "2022-11-26T09:14:12.972Z"
   },
   {
    "duration": 874,
    "start_time": "2022-11-26T09:14:12.987Z"
   },
   {
    "duration": 568,
    "start_time": "2022-11-26T09:14:13.867Z"
   },
   {
    "duration": 112,
    "start_time": "2022-11-26T09:14:14.436Z"
   },
   {
    "duration": 708,
    "start_time": "2022-11-26T09:14:14.550Z"
   },
   {
    "duration": 53,
    "start_time": "2022-11-26T09:14:15.260Z"
   },
   {
    "duration": 77,
    "start_time": "2022-11-26T09:14:15.316Z"
   },
   {
    "duration": 17173,
    "start_time": "2022-11-26T09:14:15.395Z"
   },
   {
    "duration": 464,
    "start_time": "2022-11-26T09:14:32.570Z"
   },
   {
    "duration": 20649,
    "start_time": "2022-11-26T09:14:33.036Z"
   },
   {
    "duration": 3732,
    "start_time": "2022-11-26T09:14:53.687Z"
   },
   {
    "duration": 130,
    "start_time": "2022-11-26T09:14:57.421Z"
   },
   {
    "duration": 144,
    "start_time": "2022-11-26T09:14:57.553Z"
   },
   {
    "duration": 8,
    "start_time": "2022-11-26T09:14:57.699Z"
   },
   {
    "duration": 6,
    "start_time": "2022-11-26T09:19:40.716Z"
   },
   {
    "duration": 4,
    "start_time": "2022-11-26T09:19:48.426Z"
   },
   {
    "duration": 6,
    "start_time": "2022-11-26T09:19:55.163Z"
   },
   {
    "duration": 1962,
    "start_time": "2022-11-26T09:27:14.617Z"
   },
   {
    "duration": 2069,
    "start_time": "2022-11-26T09:28:54.293Z"
   },
   {
    "duration": 1925,
    "start_time": "2022-11-26T09:29:06.445Z"
   },
   {
    "duration": 1575,
    "start_time": "2022-11-26T16:06:36.075Z"
   },
   {
    "duration": 195,
    "start_time": "2022-11-26T16:06:37.653Z"
   },
   {
    "duration": 17,
    "start_time": "2022-11-26T16:06:37.849Z"
   },
   {
    "duration": 8,
    "start_time": "2022-11-26T16:06:37.868Z"
   },
   {
    "duration": 15,
    "start_time": "2022-11-26T16:06:37.878Z"
   },
   {
    "duration": 263,
    "start_time": "2022-11-26T16:06:37.896Z"
   },
   {
    "duration": 144,
    "start_time": "2022-11-26T16:06:38.161Z"
   },
   {
    "duration": 12,
    "start_time": "2022-11-26T16:06:38.306Z"
   },
   {
    "duration": 784,
    "start_time": "2022-11-26T16:06:38.320Z"
   },
   {
    "duration": 520,
    "start_time": "2022-11-26T16:06:39.106Z"
   },
   {
    "duration": 113,
    "start_time": "2022-11-26T16:06:39.630Z"
   },
   {
    "duration": 727,
    "start_time": "2022-11-26T16:06:39.750Z"
   },
   {
    "duration": 43,
    "start_time": "2022-11-26T16:06:40.479Z"
   },
   {
    "duration": 64,
    "start_time": "2022-11-26T16:06:40.524Z"
   },
   {
    "duration": 14012,
    "start_time": "2022-11-26T16:06:40.590Z"
   },
   {
    "duration": 450,
    "start_time": "2022-11-26T16:06:54.604Z"
   },
   {
    "duration": 20306,
    "start_time": "2022-11-26T16:06:55.056Z"
   },
   {
    "duration": 1899,
    "start_time": "2022-11-26T16:07:15.364Z"
   },
   {
    "duration": 126,
    "start_time": "2022-11-26T16:07:17.265Z"
   },
   {
    "duration": 136,
    "start_time": "2022-11-26T16:07:17.392Z"
   },
   {
    "duration": 7,
    "start_time": "2022-11-26T16:07:17.530Z"
   },
   {
    "duration": 52,
    "start_time": "2022-11-26T16:11:55.977Z"
   },
   {
    "duration": 667,
    "start_time": "2022-11-26T16:12:05.459Z"
   },
   {
    "duration": 52,
    "start_time": "2022-11-26T16:12:29.411Z"
   },
   {
    "duration": 146,
    "start_time": "2022-11-26T16:13:29.164Z"
   },
   {
    "duration": 19,
    "start_time": "2022-11-26T16:13:33.453Z"
   },
   {
    "duration": 28,
    "start_time": "2022-11-26T16:14:02.661Z"
   },
   {
    "duration": 18,
    "start_time": "2022-11-26T16:15:28.633Z"
   },
   {
    "duration": 26,
    "start_time": "2022-11-26T16:15:45.319Z"
   },
   {
    "duration": 1559,
    "start_time": "2022-11-26T16:15:52.725Z"
   },
   {
    "duration": 76,
    "start_time": "2022-11-26T16:15:54.288Z"
   },
   {
    "duration": 22,
    "start_time": "2022-11-26T16:15:54.366Z"
   },
   {
    "duration": 10,
    "start_time": "2022-11-26T16:15:54.392Z"
   },
   {
    "duration": 16,
    "start_time": "2022-11-26T16:15:54.404Z"
   },
   {
    "duration": 279,
    "start_time": "2022-11-26T16:15:54.422Z"
   },
   {
    "duration": 140,
    "start_time": "2022-11-26T16:15:54.703Z"
   },
   {
    "duration": 19,
    "start_time": "2022-11-26T16:15:54.845Z"
   },
   {
    "duration": 893,
    "start_time": "2022-11-26T16:15:54.866Z"
   },
   {
    "duration": 529,
    "start_time": "2022-11-26T16:15:55.761Z"
   },
   {
    "duration": 101,
    "start_time": "2022-11-26T16:15:56.292Z"
   },
   {
    "duration": 682,
    "start_time": "2022-11-26T16:15:56.396Z"
   },
   {
    "duration": 65,
    "start_time": "2022-11-26T16:15:57.080Z"
   },
   {
    "duration": 211,
    "start_time": "2022-11-26T16:15:57.147Z"
   },
   {
    "duration": 0,
    "start_time": "2022-11-26T16:15:57.360Z"
   },
   {
    "duration": 0,
    "start_time": "2022-11-26T16:15:57.362Z"
   },
   {
    "duration": 0,
    "start_time": "2022-11-26T16:15:57.363Z"
   },
   {
    "duration": 0,
    "start_time": "2022-11-26T16:15:57.365Z"
   },
   {
    "duration": 0,
    "start_time": "2022-11-26T16:15:57.366Z"
   },
   {
    "duration": 0,
    "start_time": "2022-11-26T16:15:57.368Z"
   },
   {
    "duration": 0,
    "start_time": "2022-11-26T16:15:57.369Z"
   },
   {
    "duration": 56,
    "start_time": "2022-11-26T16:16:17.264Z"
   },
   {
    "duration": 20,
    "start_time": "2022-11-26T16:16:47.463Z"
   },
   {
    "duration": 67,
    "start_time": "2022-11-26T16:17:09.173Z"
   },
   {
    "duration": 52,
    "start_time": "2022-11-26T16:17:14.195Z"
   },
   {
    "duration": 51,
    "start_time": "2022-11-26T16:17:16.645Z"
   },
   {
    "duration": 140,
    "start_time": "2022-11-26T16:17:45.297Z"
   },
   {
    "duration": 57,
    "start_time": "2022-11-26T16:17:56.520Z"
   },
   {
    "duration": 75,
    "start_time": "2022-11-26T16:18:32.037Z"
   },
   {
    "duration": 21,
    "start_time": "2022-11-26T16:19:04.209Z"
   },
   {
    "duration": 21,
    "start_time": "2022-11-26T16:19:26.979Z"
   },
   {
    "duration": 25,
    "start_time": "2022-11-26T16:19:42.109Z"
   },
   {
    "duration": 41,
    "start_time": "2022-11-26T16:21:04.088Z"
   },
   {
    "duration": 13891,
    "start_time": "2022-11-26T16:21:38.260Z"
   },
   {
    "duration": 501,
    "start_time": "2022-11-26T16:22:39.304Z"
   },
   {
    "duration": 24711,
    "start_time": "2022-11-26T16:23:04.619Z"
   },
   {
    "duration": 2168,
    "start_time": "2022-11-26T16:24:38.018Z"
   },
   {
    "duration": 548,
    "start_time": "2022-11-26T16:25:19.486Z"
   },
   {
    "duration": 431,
    "start_time": "2022-11-26T16:25:40.696Z"
   },
   {
    "duration": 19,
    "start_time": "2022-11-26T16:26:04.140Z"
   },
   {
    "duration": 12,
    "start_time": "2022-11-26T16:27:06.779Z"
   },
   {
    "duration": 12,
    "start_time": "2022-11-26T16:31:51.401Z"
   },
   {
    "duration": 19,
    "start_time": "2022-11-26T16:32:12.324Z"
   },
   {
    "duration": 14,
    "start_time": "2022-11-26T16:32:14.865Z"
   },
   {
    "duration": 15,
    "start_time": "2022-11-26T16:32:40.798Z"
   },
   {
    "duration": 4,
    "start_time": "2022-11-26T16:32:44.402Z"
   },
   {
    "duration": 16,
    "start_time": "2022-11-26T16:32:48.894Z"
   },
   {
    "duration": 16,
    "start_time": "2022-11-26T16:33:30.893Z"
   },
   {
    "duration": 13,
    "start_time": "2022-11-26T16:35:14.019Z"
   },
   {
    "duration": 16,
    "start_time": "2022-11-26T16:35:23.750Z"
   },
   {
    "duration": 4,
    "start_time": "2022-11-26T16:37:53.827Z"
   },
   {
    "duration": 73,
    "start_time": "2022-11-26T16:37:57.421Z"
   },
   {
    "duration": 5,
    "start_time": "2022-11-26T16:38:01.997Z"
   },
   {
    "duration": 15,
    "start_time": "2022-11-26T16:38:14.071Z"
   },
   {
    "duration": 7,
    "start_time": "2022-11-26T16:38:24.872Z"
   },
   {
    "duration": 69,
    "start_time": "2022-11-26T16:38:26.323Z"
   },
   {
    "duration": 14,
    "start_time": "2022-11-26T16:44:05.572Z"
   },
   {
    "duration": 20,
    "start_time": "2022-11-26T16:44:21.700Z"
   },
   {
    "duration": 17,
    "start_time": "2022-11-26T16:44:32.349Z"
   },
   {
    "duration": 15,
    "start_time": "2022-11-26T16:44:39.482Z"
   },
   {
    "duration": 1469,
    "start_time": "2022-11-26T16:44:49.149Z"
   },
   {
    "duration": 80,
    "start_time": "2022-11-26T16:44:50.621Z"
   },
   {
    "duration": 15,
    "start_time": "2022-11-26T16:44:50.702Z"
   },
   {
    "duration": 22,
    "start_time": "2022-11-26T16:44:50.719Z"
   },
   {
    "duration": 7,
    "start_time": "2022-11-26T16:44:50.752Z"
   },
   {
    "duration": 25,
    "start_time": "2022-11-26T16:44:50.761Z"
   },
   {
    "duration": 250,
    "start_time": "2022-11-26T16:44:50.788Z"
   },
   {
    "duration": 141,
    "start_time": "2022-11-26T16:44:51.040Z"
   },
   {
    "duration": 13,
    "start_time": "2022-11-26T16:44:51.183Z"
   },
   {
    "duration": 661,
    "start_time": "2022-11-26T16:44:51.198Z"
   },
   {
    "duration": 497,
    "start_time": "2022-11-26T16:44:51.862Z"
   },
   {
    "duration": 96,
    "start_time": "2022-11-26T16:44:52.361Z"
   },
   {
    "duration": 681,
    "start_time": "2022-11-26T16:44:52.459Z"
   },
   {
    "duration": 45,
    "start_time": "2022-11-26T16:44:53.143Z"
   },
   {
    "duration": 64,
    "start_time": "2022-11-26T16:44:53.190Z"
   },
   {
    "duration": 13885,
    "start_time": "2022-11-26T16:44:53.257Z"
   },
   {
    "duration": 451,
    "start_time": "2022-11-26T16:45:07.144Z"
   },
   {
    "duration": 20978,
    "start_time": "2022-11-26T16:45:07.598Z"
   },
   {
    "duration": 2070,
    "start_time": "2022-11-26T16:45:28.578Z"
   },
   {
    "duration": 454,
    "start_time": "2022-11-26T16:45:30.651Z"
   },
   {
    "duration": 146,
    "start_time": "2022-11-26T16:45:31.107Z"
   },
   {
    "duration": 7,
    "start_time": "2022-11-26T16:45:31.255Z"
   },
   {
    "duration": 68,
    "start_time": "2022-11-26T16:45:48.722Z"
   },
   {
    "duration": 124,
    "start_time": "2022-11-26T16:45:57.673Z"
   },
   {
    "duration": 2003,
    "start_time": "2022-11-26T16:46:05.733Z"
   },
   {
    "duration": 89,
    "start_time": "2022-11-26T16:46:07.738Z"
   },
   {
    "duration": 14,
    "start_time": "2022-11-26T16:46:07.829Z"
   },
   {
    "duration": 18,
    "start_time": "2022-11-26T16:46:07.845Z"
   },
   {
    "duration": 8,
    "start_time": "2022-11-26T16:46:07.865Z"
   },
   {
    "duration": 15,
    "start_time": "2022-11-26T16:46:07.875Z"
   },
   {
    "duration": 20,
    "start_time": "2022-11-26T16:46:07.892Z"
   },
   {
    "duration": 73,
    "start_time": "2022-11-26T16:46:07.914Z"
   },
   {
    "duration": 9,
    "start_time": "2022-11-26T16:46:07.989Z"
   },
   {
    "duration": 57,
    "start_time": "2022-11-26T16:46:08.000Z"
   },
   {
    "duration": 36,
    "start_time": "2022-11-26T16:46:08.058Z"
   },
   {
    "duration": 12,
    "start_time": "2022-11-26T16:46:08.096Z"
   },
   {
    "duration": 63,
    "start_time": "2022-11-26T16:46:08.110Z"
   },
   {
    "duration": 8,
    "start_time": "2022-11-26T16:46:08.176Z"
   },
   {
    "duration": 72,
    "start_time": "2022-11-26T16:46:08.186Z"
   },
   {
    "duration": 831,
    "start_time": "2022-11-26T16:46:08.260Z"
   },
   {
    "duration": 30,
    "start_time": "2022-11-26T16:46:09.093Z"
   },
   {
    "duration": 1954,
    "start_time": "2022-11-26T16:46:09.125Z"
   },
   {
    "duration": 199,
    "start_time": "2022-11-26T16:46:11.081Z"
   },
   {
    "duration": 27,
    "start_time": "2022-11-26T16:46:11.282Z"
   },
   {
    "duration": 147,
    "start_time": "2022-11-26T16:46:11.310Z"
   },
   {
    "duration": 8,
    "start_time": "2022-11-26T16:46:11.459Z"
   },
   {
    "duration": 18,
    "start_time": "2022-11-26T16:47:08.147Z"
   },
   {
    "duration": 25,
    "start_time": "2022-11-26T16:49:00.271Z"
   },
   {
    "duration": 135,
    "start_time": "2022-11-26T16:49:33.065Z"
   },
   {
    "duration": 1605,
    "start_time": "2022-11-26T16:49:40.468Z"
   },
   {
    "duration": 78,
    "start_time": "2022-11-26T16:49:42.075Z"
   },
   {
    "duration": 15,
    "start_time": "2022-11-26T16:49:42.156Z"
   },
   {
    "duration": 27,
    "start_time": "2022-11-26T16:49:42.174Z"
   },
   {
    "duration": 8,
    "start_time": "2022-11-26T16:49:42.203Z"
   },
   {
    "duration": 44,
    "start_time": "2022-11-26T16:49:42.213Z"
   },
   {
    "duration": 24,
    "start_time": "2022-11-26T16:49:42.259Z"
   },
   {
    "duration": 19,
    "start_time": "2022-11-26T16:49:42.285Z"
   },
   {
    "duration": 65,
    "start_time": "2022-11-26T16:49:42.306Z"
   },
   {
    "duration": 10,
    "start_time": "2022-11-26T16:49:42.374Z"
   },
   {
    "duration": 45,
    "start_time": "2022-11-26T16:49:42.386Z"
   },
   {
    "duration": 41,
    "start_time": "2022-11-26T16:49:42.451Z"
   },
   {
    "duration": 13,
    "start_time": "2022-11-26T16:49:42.494Z"
   },
   {
    "duration": 67,
    "start_time": "2022-11-26T16:49:42.509Z"
   },
   {
    "duration": 9,
    "start_time": "2022-11-26T16:49:42.578Z"
   },
   {
    "duration": 69,
    "start_time": "2022-11-26T16:49:42.588Z"
   },
   {
    "duration": 991,
    "start_time": "2022-11-26T16:49:42.659Z"
   },
   {
    "duration": 34,
    "start_time": "2022-11-26T16:49:43.652Z"
   },
   {
    "duration": 2001,
    "start_time": "2022-11-26T16:49:43.688Z"
   },
   {
    "duration": 206,
    "start_time": "2022-11-26T16:49:45.690Z"
   },
   {
    "duration": 34,
    "start_time": "2022-11-26T16:49:45.898Z"
   },
   {
    "duration": 146,
    "start_time": "2022-11-26T16:49:45.934Z"
   },
   {
    "duration": 9,
    "start_time": "2022-11-26T16:49:46.082Z"
   },
   {
    "duration": 8,
    "start_time": "2022-11-26T16:50:36.768Z"
   },
   {
    "duration": 49,
    "start_time": "2022-11-26T16:51:14.478Z"
   },
   {
    "duration": 149,
    "start_time": "2022-11-26T16:51:58.599Z"
   },
   {
    "duration": 155,
    "start_time": "2022-11-26T16:53:00.254Z"
   },
   {
    "duration": 134,
    "start_time": "2022-11-26T16:55:29.325Z"
   },
   {
    "duration": 48,
    "start_time": "2022-11-26T16:55:50.627Z"
   },
   {
    "duration": 1426,
    "start_time": "2022-11-26T16:56:02.527Z"
   },
   {
    "duration": 83,
    "start_time": "2022-11-26T16:56:03.955Z"
   },
   {
    "duration": 21,
    "start_time": "2022-11-26T16:56:04.040Z"
   },
   {
    "duration": 32,
    "start_time": "2022-11-26T16:56:04.064Z"
   },
   {
    "duration": 8,
    "start_time": "2022-11-26T16:56:04.099Z"
   },
   {
    "duration": 22,
    "start_time": "2022-11-26T16:56:04.109Z"
   },
   {
    "duration": 41,
    "start_time": "2022-11-26T16:56:04.133Z"
   },
   {
    "duration": 20,
    "start_time": "2022-11-26T16:56:04.176Z"
   },
   {
    "duration": 57,
    "start_time": "2022-11-26T16:56:04.198Z"
   },
   {
    "duration": 11,
    "start_time": "2022-11-26T16:56:04.257Z"
   },
   {
    "duration": 45,
    "start_time": "2022-11-26T16:56:04.269Z"
   },
   {
    "duration": 59,
    "start_time": "2022-11-26T16:56:04.316Z"
   },
   {
    "duration": 13,
    "start_time": "2022-11-26T16:56:04.377Z"
   },
   {
    "duration": 61,
    "start_time": "2022-11-26T16:56:04.393Z"
   },
   {
    "duration": 8,
    "start_time": "2022-11-26T16:56:04.456Z"
   },
   {
    "duration": 54,
    "start_time": "2022-11-26T16:56:04.465Z"
   },
   {
    "duration": 1011,
    "start_time": "2022-11-26T16:56:04.520Z"
   },
   {
    "duration": 46,
    "start_time": "2022-11-26T16:56:05.533Z"
   },
   {
    "duration": 141,
    "start_time": "2022-11-26T16:56:05.581Z"
   },
   {
    "duration": 0,
    "start_time": "2022-11-26T16:56:05.724Z"
   },
   {
    "duration": 0,
    "start_time": "2022-11-26T16:56:05.725Z"
   },
   {
    "duration": 0,
    "start_time": "2022-11-26T16:56:05.726Z"
   },
   {
    "duration": 0,
    "start_time": "2022-11-26T16:56:05.727Z"
   },
   {
    "duration": 0,
    "start_time": "2022-11-26T16:56:05.728Z"
   },
   {
    "duration": 0,
    "start_time": "2022-11-26T16:56:05.729Z"
   },
   {
    "duration": 48,
    "start_time": "2022-11-26T16:56:38.647Z"
   },
   {
    "duration": 34,
    "start_time": "2022-11-26T16:56:48.331Z"
   },
   {
    "duration": 164,
    "start_time": "2022-11-26T16:57:13.146Z"
   },
   {
    "duration": 45,
    "start_time": "2022-11-26T16:57:19.519Z"
   },
   {
    "duration": 154,
    "start_time": "2022-11-26T16:57:24.969Z"
   },
   {
    "duration": 14,
    "start_time": "2022-11-26T17:01:03.337Z"
   },
   {
    "duration": 11,
    "start_time": "2022-11-26T17:01:08.508Z"
   },
   {
    "duration": 496,
    "start_time": "2022-11-26T17:01:16.268Z"
   },
   {
    "duration": 62,
    "start_time": "2022-11-26T17:02:44.520Z"
   },
   {
    "duration": 2049,
    "start_time": "2022-11-26T17:02:54.044Z"
   },
   {
    "duration": 67,
    "start_time": "2022-11-26T17:03:01.873Z"
   },
   {
    "duration": 6,
    "start_time": "2022-11-26T17:08:23.051Z"
   },
   {
    "duration": 69,
    "start_time": "2022-11-26T17:08:30.285Z"
   },
   {
    "duration": 62,
    "start_time": "2022-11-26T17:09:05.347Z"
   },
   {
    "duration": 1453,
    "start_time": "2022-11-28T02:34:31.980Z"
   },
   {
    "duration": 189,
    "start_time": "2022-11-28T02:34:33.435Z"
   },
   {
    "duration": 11,
    "start_time": "2022-11-28T02:34:33.626Z"
   },
   {
    "duration": 14,
    "start_time": "2022-11-28T02:34:33.639Z"
   },
   {
    "duration": 6,
    "start_time": "2022-11-28T02:34:33.654Z"
   },
   {
    "duration": 26,
    "start_time": "2022-11-28T02:34:33.662Z"
   },
   {
    "duration": 15,
    "start_time": "2022-11-28T02:34:33.689Z"
   },
   {
    "duration": 14,
    "start_time": "2022-11-28T02:34:33.706Z"
   },
   {
    "duration": 27,
    "start_time": "2022-11-28T02:34:33.721Z"
   },
   {
    "duration": 31,
    "start_time": "2022-11-28T02:34:33.751Z"
   },
   {
    "duration": 41,
    "start_time": "2022-11-28T02:34:33.783Z"
   },
   {
    "duration": 53,
    "start_time": "2022-11-28T02:34:33.825Z"
   },
   {
    "duration": 23,
    "start_time": "2022-11-28T02:34:33.880Z"
   },
   {
    "duration": 55,
    "start_time": "2022-11-28T02:34:33.905Z"
   },
   {
    "duration": 8,
    "start_time": "2022-11-28T02:34:33.962Z"
   },
   {
    "duration": 53,
    "start_time": "2022-11-28T02:34:33.977Z"
   },
   {
    "duration": 927,
    "start_time": "2022-11-28T02:34:34.031Z"
   },
   {
    "duration": 54,
    "start_time": "2022-11-28T02:34:34.960Z"
   },
   {
    "duration": 157,
    "start_time": "2022-11-28T02:34:35.016Z"
   },
   {
    "duration": 0,
    "start_time": "2022-11-28T02:34:35.175Z"
   },
   {
    "duration": 0,
    "start_time": "2022-11-28T02:34:35.178Z"
   },
   {
    "duration": 0,
    "start_time": "2022-11-28T02:34:35.179Z"
   },
   {
    "duration": 0,
    "start_time": "2022-11-28T02:34:35.181Z"
   },
   {
    "duration": 0,
    "start_time": "2022-11-28T02:34:35.182Z"
   },
   {
    "duration": 0,
    "start_time": "2022-11-28T02:34:35.183Z"
   },
   {
    "duration": 0,
    "start_time": "2022-11-28T02:34:35.185Z"
   },
   {
    "duration": 1868,
    "start_time": "2022-11-28T02:34:50.243Z"
   },
   {
    "duration": 145,
    "start_time": "2022-11-28T02:35:00.323Z"
   },
   {
    "duration": 182,
    "start_time": "2022-11-28T02:35:08.890Z"
   },
   {
    "duration": 30,
    "start_time": "2022-11-28T02:36:18.883Z"
   },
   {
    "duration": 137,
    "start_time": "2022-11-28T02:36:32.968Z"
   },
   {
    "duration": 173,
    "start_time": "2022-11-28T02:36:37.716Z"
   },
   {
    "duration": 1396,
    "start_time": "2022-11-28T02:37:23.269Z"
   },
   {
    "duration": 68,
    "start_time": "2022-11-28T02:37:24.667Z"
   },
   {
    "duration": 13,
    "start_time": "2022-11-28T02:37:24.736Z"
   },
   {
    "duration": 20,
    "start_time": "2022-11-28T02:37:24.751Z"
   },
   {
    "duration": 7,
    "start_time": "2022-11-28T02:37:24.772Z"
   },
   {
    "duration": 17,
    "start_time": "2022-11-28T02:37:24.781Z"
   },
   {
    "duration": 15,
    "start_time": "2022-11-28T02:37:24.800Z"
   },
   {
    "duration": 15,
    "start_time": "2022-11-28T02:37:24.816Z"
   },
   {
    "duration": 57,
    "start_time": "2022-11-28T02:37:24.833Z"
   },
   {
    "duration": 7,
    "start_time": "2022-11-28T02:37:24.892Z"
   },
   {
    "duration": 44,
    "start_time": "2022-11-28T02:37:24.901Z"
   },
   {
    "duration": 49,
    "start_time": "2022-11-28T02:37:24.947Z"
   },
   {
    "duration": 11,
    "start_time": "2022-11-28T02:37:24.998Z"
   },
   {
    "duration": 52,
    "start_time": "2022-11-28T02:37:25.011Z"
   },
   {
    "duration": 17,
    "start_time": "2022-11-28T02:37:25.064Z"
   },
   {
    "duration": 39,
    "start_time": "2022-11-28T02:37:25.083Z"
   },
   {
    "duration": 930,
    "start_time": "2022-11-28T02:37:25.123Z"
   },
   {
    "duration": 42,
    "start_time": "2022-11-28T02:37:26.055Z"
   },
   {
    "duration": 1850,
    "start_time": "2022-11-28T02:37:26.099Z"
   },
   {
    "duration": 178,
    "start_time": "2022-11-28T02:37:27.951Z"
   },
   {
    "duration": 30,
    "start_time": "2022-11-28T02:37:28.131Z"
   },
   {
    "duration": 183,
    "start_time": "2022-11-28T02:37:28.163Z"
   },
   {
    "duration": 235,
    "start_time": "2022-11-28T02:37:28.347Z"
   },
   {
    "duration": 284,
    "start_time": "2022-11-28T02:37:28.583Z"
   },
   {
    "duration": 13,
    "start_time": "2022-11-28T02:37:28.869Z"
   },
   {
    "duration": 14,
    "start_time": "2022-11-28T02:42:20.740Z"
   },
   {
    "duration": 1256,
    "start_time": "2022-11-28T02:42:27.914Z"
   },
   {
    "duration": 67,
    "start_time": "2022-11-28T02:42:29.172Z"
   },
   {
    "duration": 12,
    "start_time": "2022-11-28T02:42:29.241Z"
   },
   {
    "duration": 16,
    "start_time": "2022-11-28T02:42:29.254Z"
   },
   {
    "duration": 6,
    "start_time": "2022-11-28T02:42:29.271Z"
   },
   {
    "duration": 17,
    "start_time": "2022-11-28T02:42:29.278Z"
   },
   {
    "duration": 14,
    "start_time": "2022-11-28T02:42:29.296Z"
   },
   {
    "duration": 14,
    "start_time": "2022-11-28T02:42:29.312Z"
   },
   {
    "duration": 26,
    "start_time": "2022-11-28T02:42:29.328Z"
   },
   {
    "duration": 8,
    "start_time": "2022-11-28T02:42:29.378Z"
   },
   {
    "duration": 35,
    "start_time": "2022-11-28T02:42:29.387Z"
   },
   {
    "duration": 30,
    "start_time": "2022-11-28T02:42:29.423Z"
   },
   {
    "duration": 31,
    "start_time": "2022-11-28T02:42:29.455Z"
   },
   {
    "duration": 37,
    "start_time": "2022-11-28T02:42:29.488Z"
   },
   {
    "duration": 7,
    "start_time": "2022-11-28T02:42:29.527Z"
   },
   {
    "duration": 74,
    "start_time": "2022-11-28T02:42:29.536Z"
   },
   {
    "duration": 697,
    "start_time": "2022-11-28T02:42:29.612Z"
   },
   {
    "duration": 28,
    "start_time": "2022-11-28T02:42:30.311Z"
   },
   {
    "duration": 1439,
    "start_time": "2022-11-28T02:42:30.340Z"
   },
   {
    "duration": 141,
    "start_time": "2022-11-28T02:42:31.781Z"
   },
   {
    "duration": 24,
    "start_time": "2022-11-28T02:42:31.924Z"
   },
   {
    "duration": 149,
    "start_time": "2022-11-28T02:42:31.949Z"
   },
   {
    "duration": 119,
    "start_time": "2022-11-28T02:42:32.100Z"
   },
   {
    "duration": 6,
    "start_time": "2022-11-28T02:42:32.220Z"
   },
   {
    "duration": 30,
    "start_time": "2022-11-28T02:43:17.244Z"
   },
   {
    "duration": 105,
    "start_time": "2022-11-28T02:52:48.546Z"
   },
   {
    "duration": 22,
    "start_time": "2022-11-28T02:53:27.716Z"
   },
   {
    "duration": 22,
    "start_time": "2022-11-28T02:53:39.549Z"
   },
   {
    "duration": 22,
    "start_time": "2022-11-28T02:57:30.848Z"
   },
   {
    "duration": 33,
    "start_time": "2022-11-28T02:58:03.481Z"
   },
   {
    "duration": 37,
    "start_time": "2022-11-28T02:58:32.783Z"
   },
   {
    "duration": 39,
    "start_time": "2022-11-28T03:00:27.698Z"
   },
   {
    "duration": 39,
    "start_time": "2022-11-28T03:01:43.105Z"
   },
   {
    "duration": 38,
    "start_time": "2022-11-28T03:02:07.792Z"
   },
   {
    "duration": 38,
    "start_time": "2022-11-28T03:02:15.842Z"
   },
   {
    "duration": 1286,
    "start_time": "2022-11-28T03:02:28.519Z"
   },
   {
    "duration": 72,
    "start_time": "2022-11-28T03:02:29.807Z"
   },
   {
    "duration": 11,
    "start_time": "2022-11-28T03:02:29.881Z"
   },
   {
    "duration": 17,
    "start_time": "2022-11-28T03:02:29.894Z"
   },
   {
    "duration": 7,
    "start_time": "2022-11-28T03:02:29.913Z"
   },
   {
    "duration": 17,
    "start_time": "2022-11-28T03:02:29.921Z"
   },
   {
    "duration": 40,
    "start_time": "2022-11-28T03:02:29.939Z"
   },
   {
    "duration": 45,
    "start_time": "2022-11-28T03:02:29.981Z"
   },
   {
    "duration": 28,
    "start_time": "2022-11-28T03:02:30.027Z"
   },
   {
    "duration": 23,
    "start_time": "2022-11-28T03:02:30.057Z"
   },
   {
    "duration": 42,
    "start_time": "2022-11-28T03:02:30.082Z"
   },
   {
    "duration": 30,
    "start_time": "2022-11-28T03:02:30.125Z"
   },
   {
    "duration": 28,
    "start_time": "2022-11-28T03:02:30.157Z"
   },
   {
    "duration": 58,
    "start_time": "2022-11-28T03:02:30.187Z"
   },
   {
    "duration": 7,
    "start_time": "2022-11-28T03:02:30.247Z"
   },
   {
    "duration": 78,
    "start_time": "2022-11-28T03:02:30.255Z"
   },
   {
    "duration": 793,
    "start_time": "2022-11-28T03:02:30.335Z"
   },
   {
    "duration": 31,
    "start_time": "2022-11-28T03:02:31.130Z"
   },
   {
    "duration": 1520,
    "start_time": "2022-11-28T03:02:31.163Z"
   },
   {
    "duration": 156,
    "start_time": "2022-11-28T03:02:32.685Z"
   },
   {
    "duration": 35,
    "start_time": "2022-11-28T03:02:32.843Z"
   },
   {
    "duration": 143,
    "start_time": "2022-11-28T03:02:32.880Z"
   },
   {
    "duration": 143,
    "start_time": "2022-11-28T03:02:33.025Z"
   },
   {
    "duration": 8,
    "start_time": "2022-11-28T03:02:33.170Z"
   },
   {
    "duration": 39,
    "start_time": "2022-11-28T03:03:05.900Z"
   },
   {
    "duration": 39,
    "start_time": "2022-11-28T03:03:14.116Z"
   },
   {
    "duration": 43,
    "start_time": "2022-11-28T03:03:25.301Z"
   },
   {
    "duration": 38,
    "start_time": "2022-11-28T03:03:33.036Z"
   },
   {
    "duration": 27,
    "start_time": "2022-11-28T03:03:43.111Z"
   },
   {
    "duration": 25,
    "start_time": "2022-11-28T03:03:48.569Z"
   },
   {
    "duration": 1423,
    "start_time": "2022-11-28T03:03:59.681Z"
   },
   {
    "duration": 73,
    "start_time": "2022-11-28T03:04:01.106Z"
   },
   {
    "duration": 13,
    "start_time": "2022-11-28T03:04:01.181Z"
   },
   {
    "duration": 36,
    "start_time": "2022-11-28T03:04:01.196Z"
   },
   {
    "duration": 30,
    "start_time": "2022-11-28T03:04:01.233Z"
   },
   {
    "duration": 43,
    "start_time": "2022-11-28T03:04:01.265Z"
   },
   {
    "duration": 53,
    "start_time": "2022-11-28T03:04:01.310Z"
   },
   {
    "duration": 59,
    "start_time": "2022-11-28T03:04:01.364Z"
   },
   {
    "duration": 65,
    "start_time": "2022-11-28T03:04:01.424Z"
   },
   {
    "duration": 49,
    "start_time": "2022-11-28T03:04:01.492Z"
   },
   {
    "duration": 45,
    "start_time": "2022-11-28T03:04:01.543Z"
   },
   {
    "duration": 29,
    "start_time": "2022-11-28T03:04:01.590Z"
   },
   {
    "duration": 12,
    "start_time": "2022-11-28T03:04:01.621Z"
   },
   {
    "duration": 54,
    "start_time": "2022-11-28T03:04:01.634Z"
   },
   {
    "duration": 8,
    "start_time": "2022-11-28T03:04:01.689Z"
   },
   {
    "duration": 64,
    "start_time": "2022-11-28T03:04:01.699Z"
   },
   {
    "duration": 697,
    "start_time": "2022-11-28T03:04:01.764Z"
   },
   {
    "duration": 35,
    "start_time": "2022-11-28T03:04:02.462Z"
   },
   {
    "duration": 1352,
    "start_time": "2022-11-28T03:04:02.499Z"
   },
   {
    "duration": 160,
    "start_time": "2022-11-28T03:04:03.853Z"
   },
   {
    "duration": 34,
    "start_time": "2022-11-28T03:04:04.016Z"
   },
   {
    "duration": 151,
    "start_time": "2022-11-28T03:04:04.053Z"
   },
   {
    "duration": 138,
    "start_time": "2022-11-28T03:04:04.206Z"
   },
   {
    "duration": 6,
    "start_time": "2022-11-28T03:04:04.345Z"
   },
   {
    "duration": 27,
    "start_time": "2022-11-28T03:04:55.926Z"
   },
   {
    "duration": 24,
    "start_time": "2022-11-28T03:05:38.480Z"
   },
   {
    "duration": 116,
    "start_time": "2022-11-28T03:05:41.862Z"
   },
   {
    "duration": 41,
    "start_time": "2022-11-28T03:09:14.537Z"
   },
   {
    "duration": 48,
    "start_time": "2022-11-28T03:10:04.711Z"
   },
   {
    "duration": 35,
    "start_time": "2022-11-28T03:10:25.963Z"
   },
   {
    "duration": 24,
    "start_time": "2022-11-28T03:11:19.589Z"
   },
   {
    "duration": 22,
    "start_time": "2022-11-28T03:12:45.481Z"
   },
   {
    "duration": 1285,
    "start_time": "2022-11-28T03:13:39.208Z"
   },
   {
    "duration": 69,
    "start_time": "2022-11-28T03:13:40.495Z"
   },
   {
    "duration": 13,
    "start_time": "2022-11-28T03:13:40.566Z"
   },
   {
    "duration": 26,
    "start_time": "2022-11-28T03:13:40.581Z"
   },
   {
    "duration": 7,
    "start_time": "2022-11-28T03:13:40.610Z"
   },
   {
    "duration": 16,
    "start_time": "2022-11-28T03:13:40.618Z"
   },
   {
    "duration": 14,
    "start_time": "2022-11-28T03:13:40.636Z"
   },
   {
    "duration": 25,
    "start_time": "2022-11-28T03:13:40.678Z"
   },
   {
    "duration": 26,
    "start_time": "2022-11-28T03:13:40.705Z"
   },
   {
    "duration": 8,
    "start_time": "2022-11-28T03:13:40.732Z"
   },
   {
    "duration": 66,
    "start_time": "2022-11-28T03:13:40.742Z"
   },
   {
    "duration": 29,
    "start_time": "2022-11-28T03:13:40.809Z"
   },
   {
    "duration": 14,
    "start_time": "2022-11-28T03:13:40.840Z"
   },
   {
    "duration": 62,
    "start_time": "2022-11-28T03:13:40.857Z"
   },
   {
    "duration": 8,
    "start_time": "2022-11-28T03:13:40.920Z"
   },
   {
    "duration": 87,
    "start_time": "2022-11-28T03:13:40.929Z"
   },
   {
    "duration": 679,
    "start_time": "2022-11-28T03:13:41.017Z"
   },
   {
    "duration": 28,
    "start_time": "2022-11-28T03:13:41.697Z"
   },
   {
    "duration": 1439,
    "start_time": "2022-11-28T03:13:41.726Z"
   },
   {
    "duration": 136,
    "start_time": "2022-11-28T03:13:43.166Z"
   },
   {
    "duration": 28,
    "start_time": "2022-11-28T03:13:43.305Z"
   },
   {
    "duration": 163,
    "start_time": "2022-11-28T03:13:43.335Z"
   },
   {
    "duration": 128,
    "start_time": "2022-11-28T03:13:43.500Z"
   },
   {
    "duration": 5,
    "start_time": "2022-11-28T03:13:43.630Z"
   },
   {
    "duration": 82,
    "start_time": "2022-11-28T03:16:42.022Z"
   },
   {
    "duration": 13,
    "start_time": "2022-11-28T03:16:51.556Z"
   },
   {
    "duration": 131,
    "start_time": "2022-11-28T03:21:20.394Z"
   },
   {
    "duration": 14,
    "start_time": "2022-11-28T03:21:27.806Z"
   },
   {
    "duration": 20,
    "start_time": "2022-11-28T03:21:50.337Z"
   },
   {
    "duration": 66,
    "start_time": "2022-11-28T03:22:04.792Z"
   },
   {
    "duration": 28,
    "start_time": "2022-11-28T03:31:29.632Z"
   },
   {
    "duration": 42,
    "start_time": "2022-11-28T03:32:03.584Z"
   },
   {
    "duration": 90,
    "start_time": "2022-11-28T03:35:28.061Z"
   },
   {
    "duration": 53,
    "start_time": "2022-11-28T03:35:58.658Z"
   },
   {
    "duration": 9,
    "start_time": "2022-11-28T03:36:34.649Z"
   },
   {
    "duration": 85,
    "start_time": "2022-11-28T03:36:46.504Z"
   },
   {
    "duration": 135,
    "start_time": "2022-11-28T03:37:31.738Z"
   },
   {
    "duration": 17,
    "start_time": "2022-11-28T03:39:54.098Z"
   },
   {
    "duration": 717,
    "start_time": "2022-11-28T03:40:45.492Z"
   },
   {
    "duration": 846,
    "start_time": "2022-11-28T03:41:40.603Z"
   },
   {
    "duration": 48,
    "start_time": "2022-11-28T03:41:54.582Z"
   },
   {
    "duration": 1426,
    "start_time": "2022-11-28T03:42:49.021Z"
   },
   {
    "duration": 135,
    "start_time": "2022-11-28T03:43:18.026Z"
   },
   {
    "duration": 90,
    "start_time": "2022-11-28T03:44:07.601Z"
   },
   {
    "duration": 159,
    "start_time": "2022-11-28T03:44:17.319Z"
   },
   {
    "duration": 1362,
    "start_time": "2022-11-28T03:44:25.509Z"
   },
   {
    "duration": 78,
    "start_time": "2022-11-28T03:44:26.872Z"
   },
   {
    "duration": 17,
    "start_time": "2022-11-28T03:44:26.952Z"
   },
   {
    "duration": 24,
    "start_time": "2022-11-28T03:44:26.972Z"
   },
   {
    "duration": 7,
    "start_time": "2022-11-28T03:44:27.000Z"
   },
   {
    "duration": 22,
    "start_time": "2022-11-28T03:44:27.009Z"
   },
   {
    "duration": 14,
    "start_time": "2022-11-28T03:44:27.032Z"
   },
   {
    "duration": 58,
    "start_time": "2022-11-28T03:44:27.048Z"
   },
   {
    "duration": 27,
    "start_time": "2022-11-28T03:44:27.108Z"
   },
   {
    "duration": 8,
    "start_time": "2022-11-28T03:44:27.137Z"
   },
   {
    "duration": 45,
    "start_time": "2022-11-28T03:44:27.147Z"
   },
   {
    "duration": 35,
    "start_time": "2022-11-28T03:44:27.194Z"
   },
   {
    "duration": 12,
    "start_time": "2022-11-28T03:44:27.230Z"
   },
   {
    "duration": 68,
    "start_time": "2022-11-28T03:44:27.244Z"
   },
   {
    "duration": 7,
    "start_time": "2022-11-28T03:44:27.313Z"
   },
   {
    "duration": 131,
    "start_time": "2022-11-28T03:44:27.321Z"
   },
   {
    "duration": 899,
    "start_time": "2022-11-28T03:44:27.454Z"
   },
   {
    "duration": 46,
    "start_time": "2022-11-28T03:44:28.355Z"
   },
   {
    "duration": 1446,
    "start_time": "2022-11-28T03:44:28.404Z"
   },
   {
    "duration": 126,
    "start_time": "2022-11-28T03:44:29.852Z"
   },
   {
    "duration": 233,
    "start_time": "2022-11-28T03:44:29.983Z"
   },
   {
    "duration": 31,
    "start_time": "2022-11-28T03:44:30.218Z"
   },
   {
    "duration": 155,
    "start_time": "2022-11-28T03:44:30.250Z"
   },
   {
    "duration": 139,
    "start_time": "2022-11-28T03:44:30.406Z"
   },
   {
    "duration": 5,
    "start_time": "2022-11-28T03:44:30.547Z"
   },
   {
    "duration": 151,
    "start_time": "2022-11-28T03:45:02.054Z"
   },
   {
    "duration": 328,
    "start_time": "2022-11-28T03:46:08.982Z"
   },
   {
    "duration": 1577,
    "start_time": "2022-11-28T03:46:17.753Z"
   },
   {
    "duration": 86,
    "start_time": "2022-11-28T03:46:19.333Z"
   },
   {
    "duration": 12,
    "start_time": "2022-11-28T03:46:19.421Z"
   },
   {
    "duration": 16,
    "start_time": "2022-11-28T03:46:19.434Z"
   },
   {
    "duration": 26,
    "start_time": "2022-11-28T03:46:19.452Z"
   },
   {
    "duration": 26,
    "start_time": "2022-11-28T03:46:19.481Z"
   },
   {
    "duration": 14,
    "start_time": "2022-11-28T03:46:19.508Z"
   },
   {
    "duration": 20,
    "start_time": "2022-11-28T03:46:19.524Z"
   },
   {
    "duration": 72,
    "start_time": "2022-11-28T03:46:19.546Z"
   },
   {
    "duration": 10,
    "start_time": "2022-11-28T03:46:19.619Z"
   },
   {
    "duration": 41,
    "start_time": "2022-11-28T03:46:19.631Z"
   },
   {
    "duration": 34,
    "start_time": "2022-11-28T03:46:19.679Z"
   },
   {
    "duration": 16,
    "start_time": "2022-11-28T03:46:19.715Z"
   },
   {
    "duration": 62,
    "start_time": "2022-11-28T03:46:19.735Z"
   },
   {
    "duration": 11,
    "start_time": "2022-11-28T03:46:19.799Z"
   },
   {
    "duration": 151,
    "start_time": "2022-11-28T03:46:19.812Z"
   },
   {
    "duration": 957,
    "start_time": "2022-11-28T03:46:19.965Z"
   },
   {
    "duration": 37,
    "start_time": "2022-11-28T03:46:20.924Z"
   },
   {
    "duration": 1542,
    "start_time": "2022-11-28T03:46:20.962Z"
   },
   {
    "duration": 141,
    "start_time": "2022-11-28T03:46:22.506Z"
   },
   {
    "duration": 335,
    "start_time": "2022-11-28T03:46:22.649Z"
   },
   {
    "duration": 0,
    "start_time": "2022-11-28T03:46:22.989Z"
   },
   {
    "duration": 0,
    "start_time": "2022-11-28T03:46:22.990Z"
   },
   {
    "duration": 0,
    "start_time": "2022-11-28T03:46:22.992Z"
   },
   {
    "duration": 0,
    "start_time": "2022-11-28T03:46:22.993Z"
   },
   {
    "duration": 44,
    "start_time": "2022-11-28T03:46:40.034Z"
   },
   {
    "duration": 34,
    "start_time": "2022-11-28T03:47:12.483Z"
   },
   {
    "duration": 117,
    "start_time": "2022-11-28T03:48:36.746Z"
   },
   {
    "duration": 113,
    "start_time": "2022-11-28T03:49:13.587Z"
   },
   {
    "duration": 6,
    "start_time": "2022-11-28T03:50:00.553Z"
   },
   {
    "duration": 74,
    "start_time": "2022-11-28T04:02:11.330Z"
   },
   {
    "duration": 162,
    "start_time": "2022-11-28T04:02:25.748Z"
   },
   {
    "duration": 74,
    "start_time": "2022-11-28T04:03:09.720Z"
   },
   {
    "duration": 81,
    "start_time": "2022-11-28T04:03:53.457Z"
   },
   {
    "duration": 1326,
    "start_time": "2022-11-28T04:09:14.311Z"
   },
   {
    "duration": 73,
    "start_time": "2022-11-28T04:09:15.639Z"
   },
   {
    "duration": 17,
    "start_time": "2022-11-28T04:09:15.713Z"
   },
   {
    "duration": 31,
    "start_time": "2022-11-28T04:09:15.733Z"
   },
   {
    "duration": 8,
    "start_time": "2022-11-28T04:09:15.765Z"
   },
   {
    "duration": 19,
    "start_time": "2022-11-28T04:09:15.779Z"
   },
   {
    "duration": 17,
    "start_time": "2022-11-28T04:09:15.801Z"
   },
   {
    "duration": 23,
    "start_time": "2022-11-28T04:09:15.820Z"
   },
   {
    "duration": 52,
    "start_time": "2022-11-28T04:09:15.845Z"
   },
   {
    "duration": 8,
    "start_time": "2022-11-28T04:09:15.900Z"
   },
   {
    "duration": 33,
    "start_time": "2022-11-28T04:09:15.909Z"
   },
   {
    "duration": 42,
    "start_time": "2022-11-28T04:09:15.943Z"
   },
   {
    "duration": 13,
    "start_time": "2022-11-28T04:09:15.986Z"
   },
   {
    "duration": 30,
    "start_time": "2022-11-28T04:09:16.001Z"
   },
   {
    "duration": 8,
    "start_time": "2022-11-28T04:09:16.032Z"
   },
   {
    "duration": 119,
    "start_time": "2022-11-28T04:09:16.041Z"
   },
   {
    "duration": 774,
    "start_time": "2022-11-28T04:09:16.162Z"
   },
   {
    "duration": 44,
    "start_time": "2022-11-28T04:09:16.938Z"
   },
   {
    "duration": 1285,
    "start_time": "2022-11-28T04:09:16.983Z"
   },
   {
    "duration": 127,
    "start_time": "2022-11-28T04:09:18.269Z"
   },
   {
    "duration": 98,
    "start_time": "2022-11-28T04:09:18.397Z"
   },
   {
    "duration": 0,
    "start_time": "2022-11-28T04:09:18.497Z"
   },
   {
    "duration": 0,
    "start_time": "2022-11-28T04:09:18.498Z"
   },
   {
    "duration": 0,
    "start_time": "2022-11-28T04:09:18.499Z"
   },
   {
    "duration": 0,
    "start_time": "2022-11-28T04:09:18.500Z"
   },
   {
    "duration": 1069,
    "start_time": "2022-11-28T04:09:42.812Z"
   },
   {
    "duration": 1004,
    "start_time": "2022-11-28T04:10:09.730Z"
   },
   {
    "duration": 1346,
    "start_time": "2022-11-28T04:10:46.164Z"
   },
   {
    "duration": 70,
    "start_time": "2022-11-28T04:10:47.512Z"
   },
   {
    "duration": 12,
    "start_time": "2022-11-28T04:10:47.584Z"
   },
   {
    "duration": 25,
    "start_time": "2022-11-28T04:10:47.598Z"
   },
   {
    "duration": 7,
    "start_time": "2022-11-28T04:10:47.626Z"
   },
   {
    "duration": 18,
    "start_time": "2022-11-28T04:10:47.634Z"
   },
   {
    "duration": 38,
    "start_time": "2022-11-28T04:10:47.654Z"
   },
   {
    "duration": 20,
    "start_time": "2022-11-28T04:10:47.694Z"
   },
   {
    "duration": 26,
    "start_time": "2022-11-28T04:10:47.716Z"
   },
   {
    "duration": 8,
    "start_time": "2022-11-28T04:10:47.743Z"
   },
   {
    "duration": 28,
    "start_time": "2022-11-28T04:10:47.777Z"
   },
   {
    "duration": 28,
    "start_time": "2022-11-28T04:10:47.807Z"
   },
   {
    "duration": 13,
    "start_time": "2022-11-28T04:10:47.836Z"
   },
   {
    "duration": 52,
    "start_time": "2022-11-28T04:10:47.852Z"
   },
   {
    "duration": 7,
    "start_time": "2022-11-28T04:10:47.905Z"
   },
   {
    "duration": 109,
    "start_time": "2022-11-28T04:10:47.914Z"
   },
   {
    "duration": 795,
    "start_time": "2022-11-28T04:10:48.025Z"
   },
   {
    "duration": 35,
    "start_time": "2022-11-28T04:10:48.822Z"
   },
   {
    "duration": 1334,
    "start_time": "2022-11-28T04:10:48.859Z"
   },
   {
    "duration": 129,
    "start_time": "2022-11-28T04:10:50.195Z"
   },
   {
    "duration": 1154,
    "start_time": "2022-11-28T04:10:50.326Z"
   },
   {
    "duration": 0,
    "start_time": "2022-11-28T04:10:51.482Z"
   },
   {
    "duration": 0,
    "start_time": "2022-11-28T04:10:51.483Z"
   },
   {
    "duration": 0,
    "start_time": "2022-11-28T04:10:51.484Z"
   },
   {
    "duration": 0,
    "start_time": "2022-11-28T04:10:51.485Z"
   },
   {
    "duration": 1028,
    "start_time": "2022-11-28T04:11:19.790Z"
   },
   {
    "duration": 66,
    "start_time": "2022-11-28T04:12:30.432Z"
   },
   {
    "duration": 30,
    "start_time": "2022-11-28T04:13:19.836Z"
   },
   {
    "duration": 75,
    "start_time": "2022-11-28T04:14:51.531Z"
   },
   {
    "duration": 69,
    "start_time": "2022-11-28T04:15:17.701Z"
   },
   {
    "duration": 1521,
    "start_time": "2022-11-28T04:15:29.004Z"
   },
   {
    "duration": 37,
    "start_time": "2022-11-28T04:15:41.986Z"
   },
   {
    "duration": 34,
    "start_time": "2022-11-28T04:16:32.178Z"
   },
   {
    "duration": 121,
    "start_time": "2022-11-28T04:18:01.071Z"
   },
   {
    "duration": 5313,
    "start_time": "2022-11-28T04:19:10.408Z"
   },
   {
    "duration": 8041,
    "start_time": "2022-11-28T04:21:04.173Z"
   },
   {
    "duration": 8141,
    "start_time": "2022-11-28T04:22:54.024Z"
   },
   {
    "duration": 9806,
    "start_time": "2022-11-28T04:23:35.976Z"
   },
   {
    "duration": 175,
    "start_time": "2022-11-28T04:24:15.827Z"
   },
   {
    "duration": 10526,
    "start_time": "2022-11-28T04:25:15.403Z"
   },
   {
    "duration": 23,
    "start_time": "2022-11-28T04:28:11.973Z"
   },
   {
    "duration": 23,
    "start_time": "2022-11-28T04:28:37.407Z"
   },
   {
    "duration": 11,
    "start_time": "2022-11-28T04:29:29.846Z"
   },
   {
    "duration": 1285,
    "start_time": "2022-11-28T04:32:00.313Z"
   },
   {
    "duration": 7,
    "start_time": "2022-11-28T05:20:37.156Z"
   },
   {
    "duration": 110,
    "start_time": "2022-11-28T05:20:42.487Z"
   },
   {
    "duration": 32,
    "start_time": "2022-11-28T05:21:20.726Z"
   },
   {
    "duration": 11,
    "start_time": "2022-11-28T05:21:23.975Z"
   },
   {
    "duration": 95,
    "start_time": "2022-11-28T05:21:26.442Z"
   },
   {
    "duration": 878,
    "start_time": "2022-11-28T05:22:36.686Z"
   },
   {
    "duration": 1033,
    "start_time": "2022-11-28T05:23:05.207Z"
   },
   {
    "duration": 530,
    "start_time": "2022-11-28T05:27:22.753Z"
   },
   {
    "duration": 7809,
    "start_time": "2022-11-28T05:28:45.441Z"
   },
   {
    "duration": 85,
    "start_time": "2022-11-28T05:29:04.694Z"
   },
   {
    "duration": 177,
    "start_time": "2022-11-28T05:29:51.399Z"
   },
   {
    "duration": 25,
    "start_time": "2022-11-28T05:45:03.145Z"
   },
   {
    "duration": 9879,
    "start_time": "2022-11-28T05:46:39.341Z"
   },
   {
    "duration": 126,
    "start_time": "2022-11-28T05:50:47.593Z"
   },
   {
    "duration": 6,
    "start_time": "2022-11-28T05:50:50.761Z"
   },
   {
    "duration": 31,
    "start_time": "2022-11-28T05:52:54.826Z"
   },
   {
    "duration": 3,
    "start_time": "2022-11-28T06:03:17.583Z"
   },
   {
    "duration": 32,
    "start_time": "2022-11-28T06:03:59.243Z"
   },
   {
    "duration": 58,
    "start_time": "2022-11-28T06:06:21.087Z"
   },
   {
    "duration": 195,
    "start_time": "2022-11-28T06:15:03.123Z"
   },
   {
    "duration": 106,
    "start_time": "2022-11-28T06:16:35.407Z"
   },
   {
    "duration": 46,
    "start_time": "2022-11-29T11:06:37.805Z"
   },
   {
    "duration": 1447,
    "start_time": "2022-11-29T11:06:46.467Z"
   },
   {
    "duration": 207,
    "start_time": "2022-11-29T11:06:47.916Z"
   },
   {
    "duration": 15,
    "start_time": "2022-11-29T11:06:48.125Z"
   },
   {
    "duration": 16,
    "start_time": "2022-11-29T11:06:48.142Z"
   },
   {
    "duration": 8,
    "start_time": "2022-11-29T11:06:48.159Z"
   },
   {
    "duration": 15,
    "start_time": "2022-11-29T11:06:48.168Z"
   },
   {
    "duration": 17,
    "start_time": "2022-11-29T11:06:48.212Z"
   },
   {
    "duration": 29,
    "start_time": "2022-11-29T11:06:48.232Z"
   },
   {
    "duration": 51,
    "start_time": "2022-11-29T11:06:48.263Z"
   },
   {
    "duration": 8,
    "start_time": "2022-11-29T11:06:48.317Z"
   },
   {
    "duration": 31,
    "start_time": "2022-11-29T11:06:48.327Z"
   },
   {
    "duration": 136,
    "start_time": "2022-11-29T11:06:48.360Z"
   },
   {
    "duration": 0,
    "start_time": "2022-11-29T11:06:48.498Z"
   },
   {
    "duration": 0,
    "start_time": "2022-11-29T11:06:48.499Z"
   },
   {
    "duration": 0,
    "start_time": "2022-11-29T11:06:48.500Z"
   },
   {
    "duration": 0,
    "start_time": "2022-11-29T11:06:48.513Z"
   },
   {
    "duration": 0,
    "start_time": "2022-11-29T11:06:48.515Z"
   },
   {
    "duration": 0,
    "start_time": "2022-11-29T11:06:48.516Z"
   },
   {
    "duration": 0,
    "start_time": "2022-11-29T11:06:48.517Z"
   },
   {
    "duration": 0,
    "start_time": "2022-11-29T11:06:48.518Z"
   },
   {
    "duration": 0,
    "start_time": "2022-11-29T11:06:48.520Z"
   },
   {
    "duration": 0,
    "start_time": "2022-11-29T11:06:48.521Z"
   },
   {
    "duration": 0,
    "start_time": "2022-11-29T11:06:48.522Z"
   },
   {
    "duration": 5,
    "start_time": "2022-11-29T11:12:01.068Z"
   },
   {
    "duration": 1348,
    "start_time": "2022-11-29T11:13:41.297Z"
   },
   {
    "duration": 77,
    "start_time": "2022-11-29T11:13:45.877Z"
   },
   {
    "duration": 13,
    "start_time": "2022-11-29T11:13:51.897Z"
   },
   {
    "duration": 15,
    "start_time": "2022-11-29T11:13:56.580Z"
   },
   {
    "duration": 7,
    "start_time": "2022-11-29T11:14:04.179Z"
   },
   {
    "duration": 14,
    "start_time": "2022-11-29T11:14:08.347Z"
   },
   {
    "duration": 5,
    "start_time": "2022-11-29T11:14:14.631Z"
   },
   {
    "duration": 14,
    "start_time": "2022-11-29T11:15:02.510Z"
   },
   {
    "duration": 3,
    "start_time": "2022-11-29T11:19:37.919Z"
   },
   {
    "duration": 102,
    "start_time": "2022-11-29T11:24:42.253Z"
   },
   {
    "duration": 24,
    "start_time": "2022-11-29T11:24:55.972Z"
   },
   {
    "duration": 21,
    "start_time": "2022-11-29T11:25:05.854Z"
   },
   {
    "duration": 29,
    "start_time": "2022-11-29T11:29:45.046Z"
   },
   {
    "duration": 26,
    "start_time": "2022-11-29T11:30:11.206Z"
   },
   {
    "duration": 36,
    "start_time": "2022-11-29T11:32:56.209Z"
   },
   {
    "duration": 48,
    "start_time": "2022-11-29T11:33:24.060Z"
   },
   {
    "duration": 29,
    "start_time": "2022-11-29T11:33:31.928Z"
   },
   {
    "duration": 17,
    "start_time": "2022-11-29T11:34:10.085Z"
   },
   {
    "duration": 22,
    "start_time": "2022-11-29T11:34:25.719Z"
   },
   {
    "duration": 19,
    "start_time": "2022-11-29T11:36:17.452Z"
   },
   {
    "duration": 24,
    "start_time": "2022-11-29T11:37:06.675Z"
   },
   {
    "duration": 27,
    "start_time": "2022-11-29T11:37:48.909Z"
   },
   {
    "duration": 25,
    "start_time": "2022-11-29T11:37:57.162Z"
   },
   {
    "duration": 22,
    "start_time": "2022-11-29T11:38:36.264Z"
   },
   {
    "duration": 19,
    "start_time": "2022-11-29T11:38:45.365Z"
   },
   {
    "duration": 28,
    "start_time": "2022-11-29T11:39:26.953Z"
   },
   {
    "duration": 1490,
    "start_time": "2022-11-29T13:01:15.972Z"
   },
   {
    "duration": 123,
    "start_time": "2022-11-29T13:01:17.464Z"
   },
   {
    "duration": 15,
    "start_time": "2022-11-29T13:01:17.588Z"
   },
   {
    "duration": 17,
    "start_time": "2022-11-29T13:01:17.604Z"
   },
   {
    "duration": 7,
    "start_time": "2022-11-29T13:01:17.623Z"
   },
   {
    "duration": 20,
    "start_time": "2022-11-29T13:01:17.631Z"
   },
   {
    "duration": 35,
    "start_time": "2022-11-29T13:01:17.653Z"
   },
   {
    "duration": 3,
    "start_time": "2022-11-29T13:01:17.689Z"
   },
   {
    "duration": 139,
    "start_time": "2022-11-29T13:01:17.693Z"
   },
   {
    "duration": 0,
    "start_time": "2022-11-29T13:01:17.835Z"
   },
   {
    "duration": 0,
    "start_time": "2022-11-29T13:01:17.836Z"
   },
   {
    "duration": 0,
    "start_time": "2022-11-29T13:01:17.837Z"
   },
   {
    "duration": 0,
    "start_time": "2022-11-29T13:01:17.838Z"
   },
   {
    "duration": 0,
    "start_time": "2022-11-29T13:01:17.839Z"
   },
   {
    "duration": 0,
    "start_time": "2022-11-29T13:01:17.840Z"
   },
   {
    "duration": 0,
    "start_time": "2022-11-29T13:01:17.841Z"
   },
   {
    "duration": 0,
    "start_time": "2022-11-29T13:01:17.842Z"
   },
   {
    "duration": 0,
    "start_time": "2022-11-29T13:01:17.843Z"
   },
   {
    "duration": 0,
    "start_time": "2022-11-29T13:01:17.844Z"
   },
   {
    "duration": 0,
    "start_time": "2022-11-29T13:01:17.845Z"
   },
   {
    "duration": 0,
    "start_time": "2022-11-29T13:01:17.847Z"
   },
   {
    "duration": 0,
    "start_time": "2022-11-29T13:01:17.848Z"
   },
   {
    "duration": 0,
    "start_time": "2022-11-29T13:01:17.849Z"
   },
   {
    "duration": 0,
    "start_time": "2022-11-29T13:01:17.877Z"
   },
   {
    "duration": 0,
    "start_time": "2022-11-29T13:01:17.878Z"
   },
   {
    "duration": 0,
    "start_time": "2022-11-29T13:01:17.878Z"
   },
   {
    "duration": 0,
    "start_time": "2022-11-29T13:01:17.880Z"
   },
   {
    "duration": 1331,
    "start_time": "2022-11-29T13:01:57.068Z"
   },
   {
    "duration": 79,
    "start_time": "2022-11-29T13:01:58.402Z"
   },
   {
    "duration": 13,
    "start_time": "2022-11-29T13:01:58.482Z"
   },
   {
    "duration": 23,
    "start_time": "2022-11-29T13:01:58.497Z"
   },
   {
    "duration": 8,
    "start_time": "2022-11-29T13:01:58.522Z"
   },
   {
    "duration": 15,
    "start_time": "2022-11-29T13:01:58.531Z"
   },
   {
    "duration": 34,
    "start_time": "2022-11-29T13:01:58.548Z"
   },
   {
    "duration": 2,
    "start_time": "2022-11-29T13:01:58.583Z"
   },
   {
    "duration": 129,
    "start_time": "2022-11-29T13:01:58.587Z"
   },
   {
    "duration": 0,
    "start_time": "2022-11-29T13:01:58.718Z"
   },
   {
    "duration": 0,
    "start_time": "2022-11-29T13:01:58.719Z"
   },
   {
    "duration": 0,
    "start_time": "2022-11-29T13:01:58.720Z"
   },
   {
    "duration": 0,
    "start_time": "2022-11-29T13:01:58.721Z"
   },
   {
    "duration": 0,
    "start_time": "2022-11-29T13:01:58.722Z"
   },
   {
    "duration": 0,
    "start_time": "2022-11-29T13:01:58.723Z"
   },
   {
    "duration": 0,
    "start_time": "2022-11-29T13:01:58.724Z"
   },
   {
    "duration": 0,
    "start_time": "2022-11-29T13:01:58.725Z"
   },
   {
    "duration": 0,
    "start_time": "2022-11-29T13:01:58.726Z"
   },
   {
    "duration": 0,
    "start_time": "2022-11-29T13:01:58.727Z"
   },
   {
    "duration": 0,
    "start_time": "2022-11-29T13:01:58.729Z"
   },
   {
    "duration": 0,
    "start_time": "2022-11-29T13:01:58.730Z"
   },
   {
    "duration": 0,
    "start_time": "2022-11-29T13:01:58.731Z"
   },
   {
    "duration": 0,
    "start_time": "2022-11-29T13:01:58.732Z"
   },
   {
    "duration": 0,
    "start_time": "2022-11-29T13:01:58.733Z"
   },
   {
    "duration": 0,
    "start_time": "2022-11-29T13:01:58.735Z"
   },
   {
    "duration": 0,
    "start_time": "2022-11-29T13:01:58.736Z"
   },
   {
    "duration": 0,
    "start_time": "2022-11-29T13:01:58.737Z"
   },
   {
    "duration": 19,
    "start_time": "2022-11-29T13:03:20.284Z"
   },
   {
    "duration": 12,
    "start_time": "2022-11-29T13:04:01.155Z"
   },
   {
    "duration": 30,
    "start_time": "2022-11-29T13:04:21.341Z"
   },
   {
    "duration": 15,
    "start_time": "2022-11-29T13:04:54.595Z"
   },
   {
    "duration": 12,
    "start_time": "2022-11-29T13:08:01.466Z"
   },
   {
    "duration": 13,
    "start_time": "2022-11-29T13:08:27.269Z"
   },
   {
    "duration": 15,
    "start_time": "2022-11-29T13:08:36.335Z"
   },
   {
    "duration": 21,
    "start_time": "2022-11-29T13:08:56.087Z"
   },
   {
    "duration": 13,
    "start_time": "2022-11-29T13:09:00.473Z"
   },
   {
    "duration": 37,
    "start_time": "2022-11-29T13:09:08.756Z"
   },
   {
    "duration": 43,
    "start_time": "2022-11-29T16:20:49.524Z"
   },
   {
    "duration": 6,
    "start_time": "2022-11-29T16:21:06.659Z"
   },
   {
    "duration": 1459,
    "start_time": "2022-11-29T16:21:13.139Z"
   },
   {
    "duration": 193,
    "start_time": "2022-11-29T16:21:14.600Z"
   },
   {
    "duration": 12,
    "start_time": "2022-11-29T16:21:14.794Z"
   },
   {
    "duration": 17,
    "start_time": "2022-11-29T16:21:14.808Z"
   },
   {
    "duration": 6,
    "start_time": "2022-11-29T16:21:14.826Z"
   },
   {
    "duration": 14,
    "start_time": "2022-11-29T16:21:14.833Z"
   },
   {
    "duration": 35,
    "start_time": "2022-11-29T16:21:14.849Z"
   },
   {
    "duration": 3,
    "start_time": "2022-11-29T16:21:14.886Z"
   },
   {
    "duration": 14,
    "start_time": "2022-11-29T16:21:14.890Z"
   },
   {
    "duration": 28,
    "start_time": "2022-11-29T16:21:14.906Z"
   },
   {
    "duration": 14,
    "start_time": "2022-11-29T16:21:14.935Z"
   },
   {
    "duration": 47,
    "start_time": "2022-11-29T16:21:14.950Z"
   },
   {
    "duration": 11,
    "start_time": "2022-11-29T16:21:14.999Z"
   },
   {
    "duration": 54,
    "start_time": "2022-11-29T16:21:15.012Z"
   },
   {
    "duration": 593,
    "start_time": "2022-11-29T16:21:15.068Z"
   },
   {
    "duration": 0,
    "start_time": "2022-11-29T16:21:15.662Z"
   },
   {
    "duration": 0,
    "start_time": "2022-11-29T16:21:15.664Z"
   },
   {
    "duration": 0,
    "start_time": "2022-11-29T16:21:15.665Z"
   },
   {
    "duration": 0,
    "start_time": "2022-11-29T16:21:15.666Z"
   },
   {
    "duration": 0,
    "start_time": "2022-11-29T16:21:15.667Z"
   },
   {
    "duration": 0,
    "start_time": "2022-11-29T16:21:15.678Z"
   },
   {
    "duration": 0,
    "start_time": "2022-11-29T16:21:15.679Z"
   },
   {
    "duration": 0,
    "start_time": "2022-11-29T16:21:15.681Z"
   },
   {
    "duration": 0,
    "start_time": "2022-11-29T16:21:15.682Z"
   },
   {
    "duration": 0,
    "start_time": "2022-11-29T16:21:15.683Z"
   },
   {
    "duration": 0,
    "start_time": "2022-11-29T16:21:15.685Z"
   },
   {
    "duration": 1,
    "start_time": "2022-11-29T16:21:15.686Z"
   },
   {
    "duration": 5,
    "start_time": "2022-11-29T16:24:34.057Z"
   },
   {
    "duration": 46,
    "start_time": "2022-11-29T16:24:49.276Z"
   },
   {
    "duration": 475,
    "start_time": "2022-11-29T16:24:51.983Z"
   },
   {
    "duration": 465,
    "start_time": "2022-11-29T16:25:26.510Z"
   },
   {
    "duration": 38,
    "start_time": "2022-11-29T16:26:47.187Z"
   },
   {
    "duration": 32,
    "start_time": "2022-11-29T16:26:59.220Z"
   },
   {
    "duration": 449,
    "start_time": "2022-11-29T16:28:17.846Z"
   },
   {
    "duration": 16,
    "start_time": "2022-11-29T16:29:08.632Z"
   },
   {
    "duration": 51,
    "start_time": "2022-11-29T16:29:25.187Z"
   },
   {
    "duration": 601,
    "start_time": "2022-11-29T16:29:48.173Z"
   },
   {
    "duration": 69,
    "start_time": "2022-11-29T16:30:37.462Z"
   },
   {
    "duration": 122,
    "start_time": "2022-11-29T16:30:41.028Z"
   },
   {
    "duration": 27,
    "start_time": "2022-11-29T16:31:24.667Z"
   },
   {
    "duration": 1147,
    "start_time": "2022-11-29T16:32:11.793Z"
   },
   {
    "duration": 1191,
    "start_time": "2022-11-29T16:32:32.994Z"
   },
   {
    "duration": 8150,
    "start_time": "2022-11-29T16:32:59.861Z"
   },
   {
    "duration": 13002,
    "start_time": "2022-11-29T16:33:27.014Z"
   },
   {
    "duration": 99,
    "start_time": "2022-11-29T16:33:46.181Z"
   },
   {
    "duration": 286,
    "start_time": "2022-11-29T16:34:25.205Z"
   },
   {
    "duration": 134,
    "start_time": "2022-11-29T16:34:41.955Z"
   },
   {
    "duration": 70,
    "start_time": "2022-11-29T16:35:16.826Z"
   }
  ],
  "kernelspec": {
   "display_name": "Python 3 (ipykernel)",
   "language": "python",
   "name": "python3"
  },
  "language_info": {
   "codemirror_mode": {
    "name": "ipython",
    "version": 3
   },
   "file_extension": ".py",
   "mimetype": "text/x-python",
   "name": "python",
   "nbconvert_exporter": "python",
   "pygments_lexer": "ipython3",
   "version": "3.9.13"
  },
  "toc": {
   "base_numbering": 1,
   "nav_menu": {},
   "number_sections": true,
   "sideBar": true,
   "skip_h1_title": true,
   "title_cell": "Содержание",
   "title_sidebar": "Contents",
   "toc_cell": true,
   "toc_position": {
    "height": "calc(100% - 180px)",
    "left": "10px",
    "top": "150px",
    "width": "165px"
   },
   "toc_section_display": true,
   "toc_window_display": true
  }
 },
 "nbformat": 4,
 "nbformat_minor": 2
}
